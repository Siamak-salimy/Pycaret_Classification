{
  "nbformat": 4,
  "nbformat_minor": 0,
  "metadata": {
    "colab": {
      "provenance": [],
      "authorship_tag": "ABX9TyNP9wmaoQtWgpbwFvZldIlF",
      "include_colab_link": true
    },
    "kernelspec": {
      "name": "python3",
      "display_name": "Python 3"
    },
    "language_info": {
      "name": "python"
    },
    "widgets": {
      "application/vnd.jupyter.widget-state+json": {
        "b81f3b75d0a047bca88e2abe41e33ec3": {
          "model_module": "@jupyter-widgets/controls",
          "model_name": "HBoxModel",
          "model_module_version": "1.5.0",
          "state": {
            "_dom_classes": [],
            "_model_module": "@jupyter-widgets/controls",
            "_model_module_version": "1.5.0",
            "_model_name": "HBoxModel",
            "_view_count": null,
            "_view_module": "@jupyter-widgets/controls",
            "_view_module_version": "1.5.0",
            "_view_name": "HBoxView",
            "box_style": "",
            "children": [
              "IPY_MODEL_73971deaf7a844758b8ce2583bd29c6f",
              "IPY_MODEL_c6224e37f9d241208a42038e42c0b851",
              "IPY_MODEL_28d77112df234dd0a2231d415beb0125"
            ],
            "layout": "IPY_MODEL_4bd646dd6b2f46549a4e1da6e30dc407"
          }
        },
        "73971deaf7a844758b8ce2583bd29c6f": {
          "model_module": "@jupyter-widgets/controls",
          "model_name": "HTMLModel",
          "model_module_version": "1.5.0",
          "state": {
            "_dom_classes": [],
            "_model_module": "@jupyter-widgets/controls",
            "_model_module_version": "1.5.0",
            "_model_name": "HTMLModel",
            "_view_count": null,
            "_view_module": "@jupyter-widgets/controls",
            "_view_module_version": "1.5.0",
            "_view_name": "HTMLView",
            "description": "",
            "description_tooltip": null,
            "layout": "IPY_MODEL_510fef5bb7f543ffaa131b0cf2b53649",
            "placeholder": "​",
            "style": "IPY_MODEL_21cedee1fac34fd181a4c40b2bf74a03",
            "value": "Processing: 100%"
          }
        },
        "c6224e37f9d241208a42038e42c0b851": {
          "model_module": "@jupyter-widgets/controls",
          "model_name": "FloatProgressModel",
          "model_module_version": "1.5.0",
          "state": {
            "_dom_classes": [],
            "_model_module": "@jupyter-widgets/controls",
            "_model_module_version": "1.5.0",
            "_model_name": "FloatProgressModel",
            "_view_count": null,
            "_view_module": "@jupyter-widgets/controls",
            "_view_module_version": "1.5.0",
            "_view_name": "ProgressView",
            "bar_style": "",
            "description": "",
            "description_tooltip": null,
            "layout": "IPY_MODEL_889fc7476bfc4fd1b6963e6c6b035de6",
            "max": 65,
            "min": 0,
            "orientation": "horizontal",
            "style": "IPY_MODEL_e7b66c03912149a2b6a7626afbb9dccc",
            "value": 65
          }
        },
        "28d77112df234dd0a2231d415beb0125": {
          "model_module": "@jupyter-widgets/controls",
          "model_name": "HTMLModel",
          "model_module_version": "1.5.0",
          "state": {
            "_dom_classes": [],
            "_model_module": "@jupyter-widgets/controls",
            "_model_module_version": "1.5.0",
            "_model_name": "HTMLModel",
            "_view_count": null,
            "_view_module": "@jupyter-widgets/controls",
            "_view_module_version": "1.5.0",
            "_view_name": "HTMLView",
            "description": "",
            "description_tooltip": null,
            "layout": "IPY_MODEL_c6b26ae2daf447968d78d82a9b1e3dbc",
            "placeholder": "​",
            "style": "IPY_MODEL_b965b2ad3b824c999ca4030bc4e90d03",
            "value": " 65/65 [00:38&lt;00:00,  2.91it/s]"
          }
        },
        "4bd646dd6b2f46549a4e1da6e30dc407": {
          "model_module": "@jupyter-widgets/base",
          "model_name": "LayoutModel",
          "model_module_version": "1.2.0",
          "state": {
            "_model_module": "@jupyter-widgets/base",
            "_model_module_version": "1.2.0",
            "_model_name": "LayoutModel",
            "_view_count": null,
            "_view_module": "@jupyter-widgets/base",
            "_view_module_version": "1.2.0",
            "_view_name": "LayoutView",
            "align_content": null,
            "align_items": null,
            "align_self": null,
            "border": null,
            "bottom": null,
            "display": null,
            "flex": null,
            "flex_flow": null,
            "grid_area": null,
            "grid_auto_columns": null,
            "grid_auto_flow": null,
            "grid_auto_rows": null,
            "grid_column": null,
            "grid_gap": null,
            "grid_row": null,
            "grid_template_areas": null,
            "grid_template_columns": null,
            "grid_template_rows": null,
            "height": null,
            "justify_content": null,
            "justify_items": null,
            "left": null,
            "margin": null,
            "max_height": null,
            "max_width": null,
            "min_height": null,
            "min_width": null,
            "object_fit": null,
            "object_position": null,
            "order": null,
            "overflow": null,
            "overflow_x": null,
            "overflow_y": null,
            "padding": null,
            "right": null,
            "top": null,
            "visibility": "hidden",
            "width": null
          }
        },
        "510fef5bb7f543ffaa131b0cf2b53649": {
          "model_module": "@jupyter-widgets/base",
          "model_name": "LayoutModel",
          "model_module_version": "1.2.0",
          "state": {
            "_model_module": "@jupyter-widgets/base",
            "_model_module_version": "1.2.0",
            "_model_name": "LayoutModel",
            "_view_count": null,
            "_view_module": "@jupyter-widgets/base",
            "_view_module_version": "1.2.0",
            "_view_name": "LayoutView",
            "align_content": null,
            "align_items": null,
            "align_self": null,
            "border": null,
            "bottom": null,
            "display": null,
            "flex": null,
            "flex_flow": null,
            "grid_area": null,
            "grid_auto_columns": null,
            "grid_auto_flow": null,
            "grid_auto_rows": null,
            "grid_column": null,
            "grid_gap": null,
            "grid_row": null,
            "grid_template_areas": null,
            "grid_template_columns": null,
            "grid_template_rows": null,
            "height": null,
            "justify_content": null,
            "justify_items": null,
            "left": null,
            "margin": null,
            "max_height": null,
            "max_width": null,
            "min_height": null,
            "min_width": null,
            "object_fit": null,
            "object_position": null,
            "order": null,
            "overflow": null,
            "overflow_x": null,
            "overflow_y": null,
            "padding": null,
            "right": null,
            "top": null,
            "visibility": null,
            "width": null
          }
        },
        "21cedee1fac34fd181a4c40b2bf74a03": {
          "model_module": "@jupyter-widgets/controls",
          "model_name": "DescriptionStyleModel",
          "model_module_version": "1.5.0",
          "state": {
            "_model_module": "@jupyter-widgets/controls",
            "_model_module_version": "1.5.0",
            "_model_name": "DescriptionStyleModel",
            "_view_count": null,
            "_view_module": "@jupyter-widgets/base",
            "_view_module_version": "1.2.0",
            "_view_name": "StyleView",
            "description_width": ""
          }
        },
        "889fc7476bfc4fd1b6963e6c6b035de6": {
          "model_module": "@jupyter-widgets/base",
          "model_name": "LayoutModel",
          "model_module_version": "1.2.0",
          "state": {
            "_model_module": "@jupyter-widgets/base",
            "_model_module_version": "1.2.0",
            "_model_name": "LayoutModel",
            "_view_count": null,
            "_view_module": "@jupyter-widgets/base",
            "_view_module_version": "1.2.0",
            "_view_name": "LayoutView",
            "align_content": null,
            "align_items": null,
            "align_self": null,
            "border": null,
            "bottom": null,
            "display": null,
            "flex": null,
            "flex_flow": null,
            "grid_area": null,
            "grid_auto_columns": null,
            "grid_auto_flow": null,
            "grid_auto_rows": null,
            "grid_column": null,
            "grid_gap": null,
            "grid_row": null,
            "grid_template_areas": null,
            "grid_template_columns": null,
            "grid_template_rows": null,
            "height": null,
            "justify_content": null,
            "justify_items": null,
            "left": null,
            "margin": null,
            "max_height": null,
            "max_width": null,
            "min_height": null,
            "min_width": null,
            "object_fit": null,
            "object_position": null,
            "order": null,
            "overflow": null,
            "overflow_x": null,
            "overflow_y": null,
            "padding": null,
            "right": null,
            "top": null,
            "visibility": null,
            "width": null
          }
        },
        "e7b66c03912149a2b6a7626afbb9dccc": {
          "model_module": "@jupyter-widgets/controls",
          "model_name": "ProgressStyleModel",
          "model_module_version": "1.5.0",
          "state": {
            "_model_module": "@jupyter-widgets/controls",
            "_model_module_version": "1.5.0",
            "_model_name": "ProgressStyleModel",
            "_view_count": null,
            "_view_module": "@jupyter-widgets/base",
            "_view_module_version": "1.2.0",
            "_view_name": "StyleView",
            "bar_color": null,
            "description_width": ""
          }
        },
        "c6b26ae2daf447968d78d82a9b1e3dbc": {
          "model_module": "@jupyter-widgets/base",
          "model_name": "LayoutModel",
          "model_module_version": "1.2.0",
          "state": {
            "_model_module": "@jupyter-widgets/base",
            "_model_module_version": "1.2.0",
            "_model_name": "LayoutModel",
            "_view_count": null,
            "_view_module": "@jupyter-widgets/base",
            "_view_module_version": "1.2.0",
            "_view_name": "LayoutView",
            "align_content": null,
            "align_items": null,
            "align_self": null,
            "border": null,
            "bottom": null,
            "display": null,
            "flex": null,
            "flex_flow": null,
            "grid_area": null,
            "grid_auto_columns": null,
            "grid_auto_flow": null,
            "grid_auto_rows": null,
            "grid_column": null,
            "grid_gap": null,
            "grid_row": null,
            "grid_template_areas": null,
            "grid_template_columns": null,
            "grid_template_rows": null,
            "height": null,
            "justify_content": null,
            "justify_items": null,
            "left": null,
            "margin": null,
            "max_height": null,
            "max_width": null,
            "min_height": null,
            "min_width": null,
            "object_fit": null,
            "object_position": null,
            "order": null,
            "overflow": null,
            "overflow_x": null,
            "overflow_y": null,
            "padding": null,
            "right": null,
            "top": null,
            "visibility": null,
            "width": null
          }
        },
        "b965b2ad3b824c999ca4030bc4e90d03": {
          "model_module": "@jupyter-widgets/controls",
          "model_name": "DescriptionStyleModel",
          "model_module_version": "1.5.0",
          "state": {
            "_model_module": "@jupyter-widgets/controls",
            "_model_module_version": "1.5.0",
            "_model_name": "DescriptionStyleModel",
            "_view_count": null,
            "_view_module": "@jupyter-widgets/base",
            "_view_module_version": "1.2.0",
            "_view_name": "StyleView",
            "description_width": ""
          }
        },
        "c97915805c2148b78438abff2745ae52": {
          "model_module": "@jupyter-widgets/base",
          "model_name": "LayoutModel",
          "model_module_version": "1.2.0",
          "state": {
            "_model_module": "@jupyter-widgets/base",
            "_model_module_version": "1.2.0",
            "_model_name": "LayoutModel",
            "_view_count": null,
            "_view_module": "@jupyter-widgets/base",
            "_view_module_version": "1.2.0",
            "_view_name": "LayoutView",
            "align_content": null,
            "align_items": null,
            "align_self": null,
            "border": null,
            "bottom": null,
            "display": null,
            "flex": null,
            "flex_flow": null,
            "grid_area": null,
            "grid_auto_columns": null,
            "grid_auto_flow": null,
            "grid_auto_rows": null,
            "grid_column": null,
            "grid_gap": null,
            "grid_row": null,
            "grid_template_areas": null,
            "grid_template_columns": null,
            "grid_template_rows": null,
            "height": null,
            "justify_content": null,
            "justify_items": null,
            "left": null,
            "margin": null,
            "max_height": null,
            "max_width": null,
            "min_height": null,
            "min_width": null,
            "object_fit": null,
            "object_position": null,
            "order": null,
            "overflow": null,
            "overflow_x": null,
            "overflow_y": null,
            "padding": null,
            "right": null,
            "top": null,
            "visibility": null,
            "width": null
          }
        },
        "f93838000f404f859e0937d0fbab2ac0": {
          "model_module": "@jupyter-widgets/controls",
          "model_name": "ProgressStyleModel",
          "model_module_version": "1.5.0",
          "state": {
            "_model_module": "@jupyter-widgets/controls",
            "_model_module_version": "1.5.0",
            "_model_name": "ProgressStyleModel",
            "_view_count": null,
            "_view_module": "@jupyter-widgets/base",
            "_view_module_version": "1.2.0",
            "_view_name": "StyleView",
            "bar_color": null,
            "description_width": ""
          }
        },
        "ccaddf57f97e4af3938b9ec2a0d68608": {
          "model_module": "@jupyter-widgets/base",
          "model_name": "LayoutModel",
          "model_module_version": "1.2.0",
          "state": {
            "_model_module": "@jupyter-widgets/base",
            "_model_module_version": "1.2.0",
            "_model_name": "LayoutModel",
            "_view_count": null,
            "_view_module": "@jupyter-widgets/base",
            "_view_module_version": "1.2.0",
            "_view_name": "LayoutView",
            "align_content": null,
            "align_items": null,
            "align_self": null,
            "border": null,
            "bottom": null,
            "display": null,
            "flex": null,
            "flex_flow": null,
            "grid_area": null,
            "grid_auto_columns": null,
            "grid_auto_flow": null,
            "grid_auto_rows": null,
            "grid_column": null,
            "grid_gap": null,
            "grid_row": null,
            "grid_template_areas": null,
            "grid_template_columns": null,
            "grid_template_rows": null,
            "height": null,
            "justify_content": null,
            "justify_items": null,
            "left": null,
            "margin": null,
            "max_height": null,
            "max_width": null,
            "min_height": null,
            "min_width": null,
            "object_fit": null,
            "object_position": null,
            "order": null,
            "overflow": null,
            "overflow_x": null,
            "overflow_y": null,
            "padding": null,
            "right": null,
            "top": null,
            "visibility": null,
            "width": null
          }
        },
        "20f692772e614a5a8f9c20ed51bafe75": {
          "model_module": "@jupyter-widgets/controls",
          "model_name": "DescriptionStyleModel",
          "model_module_version": "1.5.0",
          "state": {
            "_model_module": "@jupyter-widgets/controls",
            "_model_module_version": "1.5.0",
            "_model_name": "DescriptionStyleModel",
            "_view_count": null,
            "_view_module": "@jupyter-widgets/base",
            "_view_module_version": "1.2.0",
            "_view_name": "StyleView",
            "description_width": ""
          }
        },
        "d948d37051884df2a078098b89c81843": {
          "model_module": "@jupyter-widgets/base",
          "model_name": "LayoutModel",
          "model_module_version": "1.2.0",
          "state": {
            "_model_module": "@jupyter-widgets/base",
            "_model_module_version": "1.2.0",
            "_model_name": "LayoutModel",
            "_view_count": null,
            "_view_module": "@jupyter-widgets/base",
            "_view_module_version": "1.2.0",
            "_view_name": "LayoutView",
            "align_content": null,
            "align_items": null,
            "align_self": null,
            "border": null,
            "bottom": null,
            "display": null,
            "flex": null,
            "flex_flow": null,
            "grid_area": null,
            "grid_auto_columns": null,
            "grid_auto_flow": null,
            "grid_auto_rows": null,
            "grid_column": null,
            "grid_gap": null,
            "grid_row": null,
            "grid_template_areas": null,
            "grid_template_columns": null,
            "grid_template_rows": null,
            "height": null,
            "justify_content": null,
            "justify_items": null,
            "left": null,
            "margin": null,
            "max_height": null,
            "max_width": null,
            "min_height": null,
            "min_width": null,
            "object_fit": null,
            "object_position": null,
            "order": null,
            "overflow": null,
            "overflow_x": null,
            "overflow_y": null,
            "padding": null,
            "right": null,
            "top": null,
            "visibility": null,
            "width": null
          }
        },
        "d81c0d0d057b4125a8e299af44e6f4d1": {
          "model_module": "@jupyter-widgets/controls",
          "model_name": "DescriptionStyleModel",
          "model_module_version": "1.5.0",
          "state": {
            "_model_module": "@jupyter-widgets/controls",
            "_model_module_version": "1.5.0",
            "_model_name": "DescriptionStyleModel",
            "_view_count": null,
            "_view_module": "@jupyter-widgets/base",
            "_view_module_version": "1.2.0",
            "_view_name": "StyleView",
            "description_width": ""
          }
        },
        "1cb523eaa66d4a5e8df5d84ae88808de": {
          "model_module": "@jupyter-widgets/controls",
          "model_name": "HTMLModel",
          "model_module_version": "1.5.0",
          "state": {
            "_dom_classes": [],
            "_model_module": "@jupyter-widgets/controls",
            "_model_module_version": "1.5.0",
            "_model_name": "HTMLModel",
            "_view_count": null,
            "_view_module": "@jupyter-widgets/controls",
            "_view_module_version": "1.5.0",
            "_view_name": "HTMLView",
            "description": "",
            "description_tooltip": null,
            "layout": "IPY_MODEL_ccaddf57f97e4af3938b9ec2a0d68608",
            "placeholder": "​",
            "style": "IPY_MODEL_20f692772e614a5a8f9c20ed51bafe75",
            "value": "Processing: 100%"
          }
        },
        "4809770ff1594271be2eb419d60454e1": {
          "model_module": "@jupyter-widgets/controls",
          "model_name": "FloatProgressModel",
          "model_module_version": "1.5.0",
          "state": {
            "_dom_classes": [],
            "_model_module": "@jupyter-widgets/controls",
            "_model_module_version": "1.5.0",
            "_model_name": "FloatProgressModel",
            "_view_count": null,
            "_view_module": "@jupyter-widgets/controls",
            "_view_module_version": "1.5.0",
            "_view_name": "ProgressView",
            "bar_style": "",
            "description": "",
            "description_tooltip": null,
            "layout": "IPY_MODEL_c97915805c2148b78438abff2745ae52",
            "max": 65,
            "min": 0,
            "orientation": "horizontal",
            "style": "IPY_MODEL_f93838000f404f859e0937d0fbab2ac0",
            "value": 65
          }
        },
        "7e5cf1c5c71f4588b3e52a235201b689": {
          "model_module": "@jupyter-widgets/controls",
          "model_name": "HTMLModel",
          "model_module_version": "1.5.0",
          "state": {
            "_dom_classes": [],
            "_model_module": "@jupyter-widgets/controls",
            "_model_module_version": "1.5.0",
            "_model_name": "HTMLModel",
            "_view_count": null,
            "_view_module": "@jupyter-widgets/controls",
            "_view_module_version": "1.5.0",
            "_view_name": "HTMLView",
            "description": "",
            "description_tooltip": null,
            "layout": "IPY_MODEL_d948d37051884df2a078098b89c81843",
            "placeholder": "​",
            "style": "IPY_MODEL_d81c0d0d057b4125a8e299af44e6f4d1",
            "value": " 65/65 [00:26&lt;00:00,  2.93it/s]"
          }
        },
        "fb760eae54e145799b8b19027f15bb0f": {
          "model_module": "@jupyter-widgets/base",
          "model_name": "LayoutModel",
          "model_module_version": "1.2.0",
          "state": {
            "_model_module": "@jupyter-widgets/base",
            "_model_module_version": "1.2.0",
            "_model_name": "LayoutModel",
            "_view_count": null,
            "_view_module": "@jupyter-widgets/base",
            "_view_module_version": "1.2.0",
            "_view_name": "LayoutView",
            "align_content": null,
            "align_items": null,
            "align_self": null,
            "border": null,
            "bottom": null,
            "display": null,
            "flex": null,
            "flex_flow": null,
            "grid_area": null,
            "grid_auto_columns": null,
            "grid_auto_flow": null,
            "grid_auto_rows": null,
            "grid_column": null,
            "grid_gap": null,
            "grid_row": null,
            "grid_template_areas": null,
            "grid_template_columns": null,
            "grid_template_rows": null,
            "height": null,
            "justify_content": null,
            "justify_items": null,
            "left": null,
            "margin": null,
            "max_height": null,
            "max_width": null,
            "min_height": null,
            "min_width": null,
            "object_fit": null,
            "object_position": null,
            "order": null,
            "overflow": null,
            "overflow_x": null,
            "overflow_y": null,
            "padding": null,
            "right": null,
            "top": null,
            "visibility": "hidden",
            "width": null
          }
        },
        "1d003321abb74b16b14b21a0f3d4bda6": {
          "model_module": "@jupyter-widgets/controls",
          "model_name": "HBoxModel",
          "model_module_version": "1.5.0",
          "state": {
            "_dom_classes": [],
            "_model_module": "@jupyter-widgets/controls",
            "_model_module_version": "1.5.0",
            "_model_name": "HBoxModel",
            "_view_count": null,
            "_view_module": "@jupyter-widgets/controls",
            "_view_module_version": "1.5.0",
            "_view_name": "HBoxView",
            "box_style": "",
            "children": [
              "IPY_MODEL_1cb523eaa66d4a5e8df5d84ae88808de",
              "IPY_MODEL_4809770ff1594271be2eb419d60454e1",
              "IPY_MODEL_7e5cf1c5c71f4588b3e52a235201b689"
            ],
            "layout": "IPY_MODEL_fb760eae54e145799b8b19027f15bb0f"
          }
        },
        "bec7156337974410bc442bb0f1a00c3e": {
          "model_module": "@jupyter-widgets/controls",
          "model_name": "HBoxModel",
          "model_module_version": "1.5.0",
          "state": {
            "_dom_classes": [],
            "_model_module": "@jupyter-widgets/controls",
            "_model_module_version": "1.5.0",
            "_model_name": "HBoxModel",
            "_view_count": null,
            "_view_module": "@jupyter-widgets/controls",
            "_view_module_version": "1.5.0",
            "_view_name": "HBoxView",
            "box_style": "",
            "children": [
              "IPY_MODEL_e1a5696b691548239bf85a2d89f57d0c",
              "IPY_MODEL_150ff71eee9f484cb2b2bf2da5dedb22",
              "IPY_MODEL_4c2a22f1209940229e75f12a88c189f6"
            ],
            "layout": "IPY_MODEL_0526fb48e8d94ee5b4955a7b63a86202"
          }
        },
        "e1a5696b691548239bf85a2d89f57d0c": {
          "model_module": "@jupyter-widgets/controls",
          "model_name": "HTMLModel",
          "model_module_version": "1.5.0",
          "state": {
            "_dom_classes": [],
            "_model_module": "@jupyter-widgets/controls",
            "_model_module_version": "1.5.0",
            "_model_name": "HTMLModel",
            "_view_count": null,
            "_view_module": "@jupyter-widgets/controls",
            "_view_module_version": "1.5.0",
            "_view_name": "HTMLView",
            "description": "",
            "description_tooltip": null,
            "layout": "IPY_MODEL_121b42aedb574a55af9a2ce2858ec15a",
            "placeholder": "​",
            "style": "IPY_MODEL_21c521f1eb20468daa32d78b23afdee5",
            "value": "Processing: 100%"
          }
        },
        "150ff71eee9f484cb2b2bf2da5dedb22": {
          "model_module": "@jupyter-widgets/controls",
          "model_name": "FloatProgressModel",
          "model_module_version": "1.5.0",
          "state": {
            "_dom_classes": [],
            "_model_module": "@jupyter-widgets/controls",
            "_model_module_version": "1.5.0",
            "_model_name": "FloatProgressModel",
            "_view_count": null,
            "_view_module": "@jupyter-widgets/controls",
            "_view_module_version": "1.5.0",
            "_view_name": "ProgressView",
            "bar_style": "",
            "description": "",
            "description_tooltip": null,
            "layout": "IPY_MODEL_f610bfd7098d47f29d674faeb072e37f",
            "max": 81,
            "min": 0,
            "orientation": "horizontal",
            "style": "IPY_MODEL_0884c6e1cc7c44098f0f12fd2261ce85",
            "value": 81
          }
        },
        "4c2a22f1209940229e75f12a88c189f6": {
          "model_module": "@jupyter-widgets/controls",
          "model_name": "HTMLModel",
          "model_module_version": "1.5.0",
          "state": {
            "_dom_classes": [],
            "_model_module": "@jupyter-widgets/controls",
            "_model_module_version": "1.5.0",
            "_model_name": "HTMLModel",
            "_view_count": null,
            "_view_module": "@jupyter-widgets/controls",
            "_view_module_version": "1.5.0",
            "_view_name": "HTMLView",
            "description": "",
            "description_tooltip": null,
            "layout": "IPY_MODEL_ab5f7dd4179d47b18d094bb8b9669f58",
            "placeholder": "​",
            "style": "IPY_MODEL_08171bc007f64563ab4bf47244e1a44f",
            "value": " 81/81 [01:07&lt;00:00,  1.81it/s]"
          }
        },
        "0526fb48e8d94ee5b4955a7b63a86202": {
          "model_module": "@jupyter-widgets/base",
          "model_name": "LayoutModel",
          "model_module_version": "1.2.0",
          "state": {
            "_model_module": "@jupyter-widgets/base",
            "_model_module_version": "1.2.0",
            "_model_name": "LayoutModel",
            "_view_count": null,
            "_view_module": "@jupyter-widgets/base",
            "_view_module_version": "1.2.0",
            "_view_name": "LayoutView",
            "align_content": null,
            "align_items": null,
            "align_self": null,
            "border": null,
            "bottom": null,
            "display": null,
            "flex": null,
            "flex_flow": null,
            "grid_area": null,
            "grid_auto_columns": null,
            "grid_auto_flow": null,
            "grid_auto_rows": null,
            "grid_column": null,
            "grid_gap": null,
            "grid_row": null,
            "grid_template_areas": null,
            "grid_template_columns": null,
            "grid_template_rows": null,
            "height": null,
            "justify_content": null,
            "justify_items": null,
            "left": null,
            "margin": null,
            "max_height": null,
            "max_width": null,
            "min_height": null,
            "min_width": null,
            "object_fit": null,
            "object_position": null,
            "order": null,
            "overflow": null,
            "overflow_x": null,
            "overflow_y": null,
            "padding": null,
            "right": null,
            "top": null,
            "visibility": "hidden",
            "width": null
          }
        },
        "121b42aedb574a55af9a2ce2858ec15a": {
          "model_module": "@jupyter-widgets/base",
          "model_name": "LayoutModel",
          "model_module_version": "1.2.0",
          "state": {
            "_model_module": "@jupyter-widgets/base",
            "_model_module_version": "1.2.0",
            "_model_name": "LayoutModel",
            "_view_count": null,
            "_view_module": "@jupyter-widgets/base",
            "_view_module_version": "1.2.0",
            "_view_name": "LayoutView",
            "align_content": null,
            "align_items": null,
            "align_self": null,
            "border": null,
            "bottom": null,
            "display": null,
            "flex": null,
            "flex_flow": null,
            "grid_area": null,
            "grid_auto_columns": null,
            "grid_auto_flow": null,
            "grid_auto_rows": null,
            "grid_column": null,
            "grid_gap": null,
            "grid_row": null,
            "grid_template_areas": null,
            "grid_template_columns": null,
            "grid_template_rows": null,
            "height": null,
            "justify_content": null,
            "justify_items": null,
            "left": null,
            "margin": null,
            "max_height": null,
            "max_width": null,
            "min_height": null,
            "min_width": null,
            "object_fit": null,
            "object_position": null,
            "order": null,
            "overflow": null,
            "overflow_x": null,
            "overflow_y": null,
            "padding": null,
            "right": null,
            "top": null,
            "visibility": null,
            "width": null
          }
        },
        "21c521f1eb20468daa32d78b23afdee5": {
          "model_module": "@jupyter-widgets/controls",
          "model_name": "DescriptionStyleModel",
          "model_module_version": "1.5.0",
          "state": {
            "_model_module": "@jupyter-widgets/controls",
            "_model_module_version": "1.5.0",
            "_model_name": "DescriptionStyleModel",
            "_view_count": null,
            "_view_module": "@jupyter-widgets/base",
            "_view_module_version": "1.2.0",
            "_view_name": "StyleView",
            "description_width": ""
          }
        },
        "f610bfd7098d47f29d674faeb072e37f": {
          "model_module": "@jupyter-widgets/base",
          "model_name": "LayoutModel",
          "model_module_version": "1.2.0",
          "state": {
            "_model_module": "@jupyter-widgets/base",
            "_model_module_version": "1.2.0",
            "_model_name": "LayoutModel",
            "_view_count": null,
            "_view_module": "@jupyter-widgets/base",
            "_view_module_version": "1.2.0",
            "_view_name": "LayoutView",
            "align_content": null,
            "align_items": null,
            "align_self": null,
            "border": null,
            "bottom": null,
            "display": null,
            "flex": null,
            "flex_flow": null,
            "grid_area": null,
            "grid_auto_columns": null,
            "grid_auto_flow": null,
            "grid_auto_rows": null,
            "grid_column": null,
            "grid_gap": null,
            "grid_row": null,
            "grid_template_areas": null,
            "grid_template_columns": null,
            "grid_template_rows": null,
            "height": null,
            "justify_content": null,
            "justify_items": null,
            "left": null,
            "margin": null,
            "max_height": null,
            "max_width": null,
            "min_height": null,
            "min_width": null,
            "object_fit": null,
            "object_position": null,
            "order": null,
            "overflow": null,
            "overflow_x": null,
            "overflow_y": null,
            "padding": null,
            "right": null,
            "top": null,
            "visibility": null,
            "width": null
          }
        },
        "0884c6e1cc7c44098f0f12fd2261ce85": {
          "model_module": "@jupyter-widgets/controls",
          "model_name": "ProgressStyleModel",
          "model_module_version": "1.5.0",
          "state": {
            "_model_module": "@jupyter-widgets/controls",
            "_model_module_version": "1.5.0",
            "_model_name": "ProgressStyleModel",
            "_view_count": null,
            "_view_module": "@jupyter-widgets/base",
            "_view_module_version": "1.2.0",
            "_view_name": "StyleView",
            "bar_color": null,
            "description_width": ""
          }
        },
        "ab5f7dd4179d47b18d094bb8b9669f58": {
          "model_module": "@jupyter-widgets/base",
          "model_name": "LayoutModel",
          "model_module_version": "1.2.0",
          "state": {
            "_model_module": "@jupyter-widgets/base",
            "_model_module_version": "1.2.0",
            "_model_name": "LayoutModel",
            "_view_count": null,
            "_view_module": "@jupyter-widgets/base",
            "_view_module_version": "1.2.0",
            "_view_name": "LayoutView",
            "align_content": null,
            "align_items": null,
            "align_self": null,
            "border": null,
            "bottom": null,
            "display": null,
            "flex": null,
            "flex_flow": null,
            "grid_area": null,
            "grid_auto_columns": null,
            "grid_auto_flow": null,
            "grid_auto_rows": null,
            "grid_column": null,
            "grid_gap": null,
            "grid_row": null,
            "grid_template_areas": null,
            "grid_template_columns": null,
            "grid_template_rows": null,
            "height": null,
            "justify_content": null,
            "justify_items": null,
            "left": null,
            "margin": null,
            "max_height": null,
            "max_width": null,
            "min_height": null,
            "min_width": null,
            "object_fit": null,
            "object_position": null,
            "order": null,
            "overflow": null,
            "overflow_x": null,
            "overflow_y": null,
            "padding": null,
            "right": null,
            "top": null,
            "visibility": null,
            "width": null
          }
        },
        "08171bc007f64563ab4bf47244e1a44f": {
          "model_module": "@jupyter-widgets/controls",
          "model_name": "DescriptionStyleModel",
          "model_module_version": "1.5.0",
          "state": {
            "_model_module": "@jupyter-widgets/controls",
            "_model_module_version": "1.5.0",
            "_model_name": "DescriptionStyleModel",
            "_view_count": null,
            "_view_module": "@jupyter-widgets/base",
            "_view_module_version": "1.2.0",
            "_view_name": "StyleView",
            "description_width": ""
          }
        },
        "9cc3c98849e9494abe22e449b5cede7d": {
          "model_module": "@jupyter-widgets/base",
          "model_name": "LayoutModel",
          "model_module_version": "1.2.0",
          "state": {
            "_model_module": "@jupyter-widgets/base",
            "_model_module_version": "1.2.0",
            "_model_name": "LayoutModel",
            "_view_count": null,
            "_view_module": "@jupyter-widgets/base",
            "_view_module_version": "1.2.0",
            "_view_name": "LayoutView",
            "align_content": null,
            "align_items": null,
            "align_self": null,
            "border": null,
            "bottom": null,
            "display": null,
            "flex": null,
            "flex_flow": null,
            "grid_area": null,
            "grid_auto_columns": null,
            "grid_auto_flow": null,
            "grid_auto_rows": null,
            "grid_column": null,
            "grid_gap": null,
            "grid_row": null,
            "grid_template_areas": null,
            "grid_template_columns": null,
            "grid_template_rows": null,
            "height": null,
            "justify_content": null,
            "justify_items": null,
            "left": null,
            "margin": null,
            "max_height": null,
            "max_width": null,
            "min_height": null,
            "min_width": null,
            "object_fit": null,
            "object_position": null,
            "order": null,
            "overflow": null,
            "overflow_x": null,
            "overflow_y": null,
            "padding": null,
            "right": null,
            "top": null,
            "visibility": null,
            "width": null
          }
        },
        "af2b6289db644d458762ab1e66a96638": {
          "model_module": "@jupyter-widgets/controls",
          "model_name": "ProgressStyleModel",
          "model_module_version": "1.5.0",
          "state": {
            "_model_module": "@jupyter-widgets/controls",
            "_model_module_version": "1.5.0",
            "_model_name": "ProgressStyleModel",
            "_view_count": null,
            "_view_module": "@jupyter-widgets/base",
            "_view_module_version": "1.2.0",
            "_view_name": "StyleView",
            "bar_color": null,
            "description_width": ""
          }
        },
        "e54fe796979a4f2f96b70d59344d21e3": {
          "model_module": "@jupyter-widgets/base",
          "model_name": "LayoutModel",
          "model_module_version": "1.2.0",
          "state": {
            "_model_module": "@jupyter-widgets/base",
            "_model_module_version": "1.2.0",
            "_model_name": "LayoutModel",
            "_view_count": null,
            "_view_module": "@jupyter-widgets/base",
            "_view_module_version": "1.2.0",
            "_view_name": "LayoutView",
            "align_content": null,
            "align_items": null,
            "align_self": null,
            "border": null,
            "bottom": null,
            "display": null,
            "flex": null,
            "flex_flow": null,
            "grid_area": null,
            "grid_auto_columns": null,
            "grid_auto_flow": null,
            "grid_auto_rows": null,
            "grid_column": null,
            "grid_gap": null,
            "grid_row": null,
            "grid_template_areas": null,
            "grid_template_columns": null,
            "grid_template_rows": null,
            "height": null,
            "justify_content": null,
            "justify_items": null,
            "left": null,
            "margin": null,
            "max_height": null,
            "max_width": null,
            "min_height": null,
            "min_width": null,
            "object_fit": null,
            "object_position": null,
            "order": null,
            "overflow": null,
            "overflow_x": null,
            "overflow_y": null,
            "padding": null,
            "right": null,
            "top": null,
            "visibility": null,
            "width": null
          }
        },
        "86c0419e71c9430aac3807c5f4db375b": {
          "model_module": "@jupyter-widgets/controls",
          "model_name": "DescriptionStyleModel",
          "model_module_version": "1.5.0",
          "state": {
            "_model_module": "@jupyter-widgets/controls",
            "_model_module_version": "1.5.0",
            "_model_name": "DescriptionStyleModel",
            "_view_count": null,
            "_view_module": "@jupyter-widgets/base",
            "_view_module_version": "1.2.0",
            "_view_name": "StyleView",
            "description_width": ""
          }
        },
        "470602ed9e5d41968afa576b99ac7112": {
          "model_module": "@jupyter-widgets/base",
          "model_name": "LayoutModel",
          "model_module_version": "1.2.0",
          "state": {
            "_model_module": "@jupyter-widgets/base",
            "_model_module_version": "1.2.0",
            "_model_name": "LayoutModel",
            "_view_count": null,
            "_view_module": "@jupyter-widgets/base",
            "_view_module_version": "1.2.0",
            "_view_name": "LayoutView",
            "align_content": null,
            "align_items": null,
            "align_self": null,
            "border": null,
            "bottom": null,
            "display": null,
            "flex": null,
            "flex_flow": null,
            "grid_area": null,
            "grid_auto_columns": null,
            "grid_auto_flow": null,
            "grid_auto_rows": null,
            "grid_column": null,
            "grid_gap": null,
            "grid_row": null,
            "grid_template_areas": null,
            "grid_template_columns": null,
            "grid_template_rows": null,
            "height": null,
            "justify_content": null,
            "justify_items": null,
            "left": null,
            "margin": null,
            "max_height": null,
            "max_width": null,
            "min_height": null,
            "min_width": null,
            "object_fit": null,
            "object_position": null,
            "order": null,
            "overflow": null,
            "overflow_x": null,
            "overflow_y": null,
            "padding": null,
            "right": null,
            "top": null,
            "visibility": null,
            "width": null
          }
        },
        "3734740a497d401080572ae1647b4020": {
          "model_module": "@jupyter-widgets/controls",
          "model_name": "DescriptionStyleModel",
          "model_module_version": "1.5.0",
          "state": {
            "_model_module": "@jupyter-widgets/controls",
            "_model_module_version": "1.5.0",
            "_model_name": "DescriptionStyleModel",
            "_view_count": null,
            "_view_module": "@jupyter-widgets/base",
            "_view_module_version": "1.2.0",
            "_view_name": "StyleView",
            "description_width": ""
          }
        },
        "3c528f14280e41a890fb5aa5974eef8c": {
          "model_module": "@jupyter-widgets/controls",
          "model_name": "HTMLModel",
          "model_module_version": "1.5.0",
          "state": {
            "_dom_classes": [],
            "_model_module": "@jupyter-widgets/controls",
            "_model_module_version": "1.5.0",
            "_model_name": "HTMLModel",
            "_view_count": null,
            "_view_module": "@jupyter-widgets/controls",
            "_view_module_version": "1.5.0",
            "_view_name": "HTMLView",
            "description": "",
            "description_tooltip": null,
            "layout": "IPY_MODEL_e54fe796979a4f2f96b70d59344d21e3",
            "placeholder": "​",
            "style": "IPY_MODEL_86c0419e71c9430aac3807c5f4db375b",
            "value": "Processing: 100%"
          }
        },
        "346cefcd78de45ee90b585ada4b5a50b": {
          "model_module": "@jupyter-widgets/controls",
          "model_name": "FloatProgressModel",
          "model_module_version": "1.5.0",
          "state": {
            "_dom_classes": [],
            "_model_module": "@jupyter-widgets/controls",
            "_model_module_version": "1.5.0",
            "_model_name": "FloatProgressModel",
            "_view_count": null,
            "_view_module": "@jupyter-widgets/controls",
            "_view_module_version": "1.5.0",
            "_view_name": "ProgressView",
            "bar_style": "",
            "description": "",
            "description_tooltip": null,
            "layout": "IPY_MODEL_9cc3c98849e9494abe22e449b5cede7d",
            "max": 81,
            "min": 0,
            "orientation": "horizontal",
            "style": "IPY_MODEL_af2b6289db644d458762ab1e66a96638",
            "value": 81
          }
        },
        "f4abeacb5dfd409ab3c4f29d6a64398f": {
          "model_module": "@jupyter-widgets/controls",
          "model_name": "HTMLModel",
          "model_module_version": "1.5.0",
          "state": {
            "_dom_classes": [],
            "_model_module": "@jupyter-widgets/controls",
            "_model_module_version": "1.5.0",
            "_model_name": "HTMLModel",
            "_view_count": null,
            "_view_module": "@jupyter-widgets/controls",
            "_view_module_version": "1.5.0",
            "_view_name": "HTMLView",
            "description": "",
            "description_tooltip": null,
            "layout": "IPY_MODEL_470602ed9e5d41968afa576b99ac7112",
            "placeholder": "​",
            "style": "IPY_MODEL_3734740a497d401080572ae1647b4020",
            "value": " 81/81 [00:56&lt;00:00,  1.88it/s]"
          }
        },
        "ce0f0f681d154d4ca4ec030d9526bd62": {
          "model_module": "@jupyter-widgets/base",
          "model_name": "LayoutModel",
          "model_module_version": "1.2.0",
          "state": {
            "_model_module": "@jupyter-widgets/base",
            "_model_module_version": "1.2.0",
            "_model_name": "LayoutModel",
            "_view_count": null,
            "_view_module": "@jupyter-widgets/base",
            "_view_module_version": "1.2.0",
            "_view_name": "LayoutView",
            "align_content": null,
            "align_items": null,
            "align_self": null,
            "border": null,
            "bottom": null,
            "display": null,
            "flex": null,
            "flex_flow": null,
            "grid_area": null,
            "grid_auto_columns": null,
            "grid_auto_flow": null,
            "grid_auto_rows": null,
            "grid_column": null,
            "grid_gap": null,
            "grid_row": null,
            "grid_template_areas": null,
            "grid_template_columns": null,
            "grid_template_rows": null,
            "height": null,
            "justify_content": null,
            "justify_items": null,
            "left": null,
            "margin": null,
            "max_height": null,
            "max_width": null,
            "min_height": null,
            "min_width": null,
            "object_fit": null,
            "object_position": null,
            "order": null,
            "overflow": null,
            "overflow_x": null,
            "overflow_y": null,
            "padding": null,
            "right": null,
            "top": null,
            "visibility": "hidden",
            "width": null
          }
        },
        "e5228027aa744726a2cab8e370d9b447": {
          "model_module": "@jupyter-widgets/controls",
          "model_name": "HBoxModel",
          "model_module_version": "1.5.0",
          "state": {
            "_dom_classes": [],
            "_model_module": "@jupyter-widgets/controls",
            "_model_module_version": "1.5.0",
            "_model_name": "HBoxModel",
            "_view_count": null,
            "_view_module": "@jupyter-widgets/controls",
            "_view_module_version": "1.5.0",
            "_view_name": "HBoxView",
            "box_style": "",
            "children": [
              "IPY_MODEL_3c528f14280e41a890fb5aa5974eef8c",
              "IPY_MODEL_346cefcd78de45ee90b585ada4b5a50b",
              "IPY_MODEL_f4abeacb5dfd409ab3c4f29d6a64398f"
            ],
            "layout": "IPY_MODEL_ce0f0f681d154d4ca4ec030d9526bd62"
          }
        }
      }
    }
  },
  "cells": [
    {
      "cell_type": "markdown",
      "metadata": {
        "id": "view-in-github",
        "colab_type": "text"
      },
      "source": [
        "<a href=\"https://colab.research.google.com/github/Siamak-salimy/Pycaret_Classification/blob/main/Pycaret_Classification.ipynb\" target=\"_parent\"><img src=\"https://colab.research.google.com/assets/colab-badge.svg\" alt=\"Open In Colab\"/></a>"
      ]
    },
    {
      "cell_type": "markdown",
      "source": [
        "##https://pycaret.gitbook.io/docs/get-started/quickstart"
      ],
      "metadata": {
        "id": "nk4FELXhB3po"
      }
    },
    {
      "cell_type": "markdown",
      "source": [
        "#Install via PyPi\n",
        "\n"
      ],
      "metadata": {
        "id": "5v85FuuO7FVK"
      }
    },
    {
      "cell_type": "code",
      "execution_count": null,
      "metadata": {
        "id": "qnjcsjcm7ApH"
      },
      "outputs": [],
      "source": [
        "! pip install pycaret"
      ]
    },
    {
      "cell_type": "markdown",
      "source": [
        "#Classification"
      ],
      "metadata": {
        "id": "J1b1yU_L7bLY"
      }
    },
    {
      "cell_type": "code",
      "source": [
        "# load sample dataset\n",
        "from pycaret.datasets import get_data\n",
        "data = get_data('diabetes')"
      ],
      "metadata": {
        "id": "sh-MIhDc7c2O"
      },
      "execution_count": null,
      "outputs": []
    },
    {
      "cell_type": "markdown",
      "source": [
        "#Functional API\n"
      ],
      "metadata": {
        "id": "SxokCgO_7vlQ"
      }
    },
    {
      "cell_type": "code",
      "source": [
        "from pycaret.classification import *\n",
        "s = setup(data, target = 'Class variable', session_id = 123)"
      ],
      "metadata": {
        "id": "Q8s7Gq8N7x54"
      },
      "execution_count": null,
      "outputs": []
    },
    {
      "cell_type": "markdown",
      "source": [
        "#OOP API\n"
      ],
      "metadata": {
        "id": "qUoq_NUw75l_"
      }
    },
    {
      "cell_type": "code",
      "source": [
        "from pycaret.classification import ClassificationExperiment\n",
        "s = ClassificationExperiment()\n",
        "s.setup(data, target = 'Class variable', session_id = 123)"
      ],
      "metadata": {
        "id": "WYy14dhT76kg"
      },
      "execution_count": null,
      "outputs": []
    },
    {
      "cell_type": "markdown",
      "source": [
        "#Compare Models"
      ],
      "metadata": {
        "id": "DtJMJIg47_oP"
      }
    },
    {
      "cell_type": "code",
      "source": [
        "# functional API\n",
        "best = compare_models()\n",
        "\n",
        "# OOP API\n",
        "best = s.compare_models()"
      ],
      "metadata": {
        "colab": {
          "base_uri": "https://localhost:8080/",
          "height": 1000,
          "referenced_widgets": [
            "b81f3b75d0a047bca88e2abe41e33ec3",
            "73971deaf7a844758b8ce2583bd29c6f",
            "c6224e37f9d241208a42038e42c0b851",
            "28d77112df234dd0a2231d415beb0125",
            "4bd646dd6b2f46549a4e1da6e30dc407",
            "510fef5bb7f543ffaa131b0cf2b53649",
            "21cedee1fac34fd181a4c40b2bf74a03",
            "889fc7476bfc4fd1b6963e6c6b035de6",
            "e7b66c03912149a2b6a7626afbb9dccc",
            "c6b26ae2daf447968d78d82a9b1e3dbc",
            "b965b2ad3b824c999ca4030bc4e90d03",
            "c97915805c2148b78438abff2745ae52",
            "f93838000f404f859e0937d0fbab2ac0",
            "ccaddf57f97e4af3938b9ec2a0d68608",
            "20f692772e614a5a8f9c20ed51bafe75",
            "d948d37051884df2a078098b89c81843",
            "d81c0d0d057b4125a8e299af44e6f4d1",
            "1cb523eaa66d4a5e8df5d84ae88808de",
            "4809770ff1594271be2eb419d60454e1",
            "7e5cf1c5c71f4588b3e52a235201b689",
            "fb760eae54e145799b8b19027f15bb0f",
            "1d003321abb74b16b14b21a0f3d4bda6"
          ]
        },
        "id": "u3RWnA298BtA",
        "outputId": "91e32807-b657-4223-d5d2-3f042ca4b3b4"
      },
      "execution_count": 5,
      "outputs": [
        {
          "output_type": "display_data",
          "data": {
            "text/plain": [
              "<IPython.core.display.HTML object>"
            ],
            "text/html": []
          },
          "metadata": {}
        },
        {
          "output_type": "display_data",
          "data": {
            "text/plain": [
              "<pandas.io.formats.style.Styler at 0x7f5092c19270>"
            ],
            "text/html": [
              "<style type=\"text/css\">\n",
              "#T_d7635 th {\n",
              "  text-align: left;\n",
              "}\n",
              "#T_d7635_row0_col0, #T_d7635_row0_col2, #T_d7635_row0_col3, #T_d7635_row0_col4, #T_d7635_row1_col0, #T_d7635_row1_col1, #T_d7635_row1_col2, #T_d7635_row1_col3, #T_d7635_row1_col5, #T_d7635_row1_col6, #T_d7635_row1_col7, #T_d7635_row2_col0, #T_d7635_row2_col1, #T_d7635_row2_col3, #T_d7635_row2_col4, #T_d7635_row2_col5, #T_d7635_row2_col6, #T_d7635_row2_col7, #T_d7635_row3_col0, #T_d7635_row3_col1, #T_d7635_row3_col2, #T_d7635_row3_col3, #T_d7635_row3_col4, #T_d7635_row3_col5, #T_d7635_row3_col6, #T_d7635_row3_col7, #T_d7635_row4_col0, #T_d7635_row4_col1, #T_d7635_row4_col2, #T_d7635_row4_col4, #T_d7635_row4_col5, #T_d7635_row4_col6, #T_d7635_row4_col7, #T_d7635_row5_col0, #T_d7635_row5_col1, #T_d7635_row5_col2, #T_d7635_row5_col3, #T_d7635_row5_col4, #T_d7635_row5_col5, #T_d7635_row5_col6, #T_d7635_row5_col7, #T_d7635_row6_col0, #T_d7635_row6_col1, #T_d7635_row6_col2, #T_d7635_row6_col3, #T_d7635_row6_col4, #T_d7635_row6_col5, #T_d7635_row6_col6, #T_d7635_row6_col7, #T_d7635_row7_col0, #T_d7635_row7_col1, #T_d7635_row7_col2, #T_d7635_row7_col3, #T_d7635_row7_col4, #T_d7635_row7_col5, #T_d7635_row7_col6, #T_d7635_row7_col7, #T_d7635_row8_col0, #T_d7635_row8_col1, #T_d7635_row8_col2, #T_d7635_row8_col3, #T_d7635_row8_col4, #T_d7635_row8_col5, #T_d7635_row8_col6, #T_d7635_row8_col7, #T_d7635_row9_col0, #T_d7635_row9_col1, #T_d7635_row9_col2, #T_d7635_row9_col3, #T_d7635_row9_col4, #T_d7635_row9_col5, #T_d7635_row9_col6, #T_d7635_row9_col7, #T_d7635_row10_col0, #T_d7635_row10_col1, #T_d7635_row10_col2, #T_d7635_row10_col3, #T_d7635_row10_col4, #T_d7635_row10_col5, #T_d7635_row10_col6, #T_d7635_row10_col7, #T_d7635_row11_col0, #T_d7635_row11_col1, #T_d7635_row11_col2, #T_d7635_row11_col3, #T_d7635_row11_col4, #T_d7635_row11_col5, #T_d7635_row11_col6, #T_d7635_row11_col7, #T_d7635_row12_col0, #T_d7635_row12_col1, #T_d7635_row12_col2, #T_d7635_row12_col3, #T_d7635_row12_col4, #T_d7635_row12_col5, #T_d7635_row12_col6, #T_d7635_row12_col7, #T_d7635_row13_col0, #T_d7635_row13_col1, #T_d7635_row13_col2, #T_d7635_row13_col3, #T_d7635_row13_col4, #T_d7635_row13_col5, #T_d7635_row13_col6, #T_d7635_row13_col7, #T_d7635_row14_col0, #T_d7635_row14_col1, #T_d7635_row14_col2, #T_d7635_row14_col3, #T_d7635_row14_col4, #T_d7635_row14_col5, #T_d7635_row14_col6, #T_d7635_row14_col7 {\n",
              "  text-align: left;\n",
              "}\n",
              "#T_d7635_row0_col1, #T_d7635_row0_col5, #T_d7635_row0_col6, #T_d7635_row0_col7, #T_d7635_row1_col4, #T_d7635_row2_col2, #T_d7635_row4_col3 {\n",
              "  text-align: left;\n",
              "  background-color: yellow;\n",
              "}\n",
              "#T_d7635_row0_col8, #T_d7635_row2_col8, #T_d7635_row3_col8, #T_d7635_row4_col8, #T_d7635_row5_col8, #T_d7635_row6_col8, #T_d7635_row7_col8, #T_d7635_row8_col8, #T_d7635_row9_col8, #T_d7635_row10_col8, #T_d7635_row11_col8, #T_d7635_row12_col8, #T_d7635_row13_col8, #T_d7635_row14_col8 {\n",
              "  text-align: left;\n",
              "  background-color: lightgrey;\n",
              "}\n",
              "#T_d7635_row1_col8 {\n",
              "  text-align: left;\n",
              "  background-color: yellow;\n",
              "  background-color: lightgrey;\n",
              "}\n",
              "</style>\n",
              "<table id=\"T_d7635\" class=\"dataframe\">\n",
              "  <thead>\n",
              "    <tr>\n",
              "      <th class=\"blank level0\" >&nbsp;</th>\n",
              "      <th id=\"T_d7635_level0_col0\" class=\"col_heading level0 col0\" >Model</th>\n",
              "      <th id=\"T_d7635_level0_col1\" class=\"col_heading level0 col1\" >Accuracy</th>\n",
              "      <th id=\"T_d7635_level0_col2\" class=\"col_heading level0 col2\" >AUC</th>\n",
              "      <th id=\"T_d7635_level0_col3\" class=\"col_heading level0 col3\" >Recall</th>\n",
              "      <th id=\"T_d7635_level0_col4\" class=\"col_heading level0 col4\" >Prec.</th>\n",
              "      <th id=\"T_d7635_level0_col5\" class=\"col_heading level0 col5\" >F1</th>\n",
              "      <th id=\"T_d7635_level0_col6\" class=\"col_heading level0 col6\" >Kappa</th>\n",
              "      <th id=\"T_d7635_level0_col7\" class=\"col_heading level0 col7\" >MCC</th>\n",
              "      <th id=\"T_d7635_level0_col8\" class=\"col_heading level0 col8\" >TT (Sec)</th>\n",
              "    </tr>\n",
              "  </thead>\n",
              "  <tbody>\n",
              "    <tr>\n",
              "      <th id=\"T_d7635_level0_row0\" class=\"row_heading level0 row0\" >lr</th>\n",
              "      <td id=\"T_d7635_row0_col0\" class=\"data row0 col0\" >Logistic Regression</td>\n",
              "      <td id=\"T_d7635_row0_col1\" class=\"data row0 col1\" >0.7689</td>\n",
              "      <td id=\"T_d7635_row0_col2\" class=\"data row0 col2\" >0.8047</td>\n",
              "      <td id=\"T_d7635_row0_col3\" class=\"data row0 col3\" >0.5602</td>\n",
              "      <td id=\"T_d7635_row0_col4\" class=\"data row0 col4\" >0.7208</td>\n",
              "      <td id=\"T_d7635_row0_col5\" class=\"data row0 col5\" >0.6279</td>\n",
              "      <td id=\"T_d7635_row0_col6\" class=\"data row0 col6\" >0.4641</td>\n",
              "      <td id=\"T_d7635_row0_col7\" class=\"data row0 col7\" >0.4736</td>\n",
              "      <td id=\"T_d7635_row0_col8\" class=\"data row0 col8\" >0.5760</td>\n",
              "    </tr>\n",
              "    <tr>\n",
              "      <th id=\"T_d7635_level0_row1\" class=\"row_heading level0 row1\" >ridge</th>\n",
              "      <td id=\"T_d7635_row1_col0\" class=\"data row1 col0\" >Ridge Classifier</td>\n",
              "      <td id=\"T_d7635_row1_col1\" class=\"data row1 col1\" >0.7670</td>\n",
              "      <td id=\"T_d7635_row1_col2\" class=\"data row1 col2\" >0.0000</td>\n",
              "      <td id=\"T_d7635_row1_col3\" class=\"data row1 col3\" >0.5497</td>\n",
              "      <td id=\"T_d7635_row1_col4\" class=\"data row1 col4\" >0.7235</td>\n",
              "      <td id=\"T_d7635_row1_col5\" class=\"data row1 col5\" >0.6221</td>\n",
              "      <td id=\"T_d7635_row1_col6\" class=\"data row1 col6\" >0.4581</td>\n",
              "      <td id=\"T_d7635_row1_col7\" class=\"data row1 col7\" >0.4690</td>\n",
              "      <td id=\"T_d7635_row1_col8\" class=\"data row1 col8\" >0.0500</td>\n",
              "    </tr>\n",
              "    <tr>\n",
              "      <th id=\"T_d7635_level0_row2\" class=\"row_heading level0 row2\" >lda</th>\n",
              "      <td id=\"T_d7635_row2_col0\" class=\"data row2 col0\" >Linear Discriminant Analysis</td>\n",
              "      <td id=\"T_d7635_row2_col1\" class=\"data row2 col1\" >0.7670</td>\n",
              "      <td id=\"T_d7635_row2_col2\" class=\"data row2 col2\" >0.8055</td>\n",
              "      <td id=\"T_d7635_row2_col3\" class=\"data row2 col3\" >0.5550</td>\n",
              "      <td id=\"T_d7635_row2_col4\" class=\"data row2 col4\" >0.7202</td>\n",
              "      <td id=\"T_d7635_row2_col5\" class=\"data row2 col5\" >0.6243</td>\n",
              "      <td id=\"T_d7635_row2_col6\" class=\"data row2 col6\" >0.4594</td>\n",
              "      <td id=\"T_d7635_row2_col7\" class=\"data row2 col7\" >0.4695</td>\n",
              "      <td id=\"T_d7635_row2_col8\" class=\"data row2 col8\" >0.0690</td>\n",
              "    </tr>\n",
              "    <tr>\n",
              "      <th id=\"T_d7635_level0_row3\" class=\"row_heading level0 row3\" >rf</th>\n",
              "      <td id=\"T_d7635_row3_col0\" class=\"data row3 col0\" >Random Forest Classifier</td>\n",
              "      <td id=\"T_d7635_row3_col1\" class=\"data row3 col1\" >0.7485</td>\n",
              "      <td id=\"T_d7635_row3_col2\" class=\"data row3 col2\" >0.7911</td>\n",
              "      <td id=\"T_d7635_row3_col3\" class=\"data row3 col3\" >0.5284</td>\n",
              "      <td id=\"T_d7635_row3_col4\" class=\"data row3 col4\" >0.6811</td>\n",
              "      <td id=\"T_d7635_row3_col5\" class=\"data row3 col5\" >0.5924</td>\n",
              "      <td id=\"T_d7635_row3_col6\" class=\"data row3 col6\" >0.4150</td>\n",
              "      <td id=\"T_d7635_row3_col7\" class=\"data row3 col7\" >0.4238</td>\n",
              "      <td id=\"T_d7635_row3_col8\" class=\"data row3 col8\" >0.4690</td>\n",
              "    </tr>\n",
              "    <tr>\n",
              "      <th id=\"T_d7635_level0_row4\" class=\"row_heading level0 row4\" >nb</th>\n",
              "      <td id=\"T_d7635_row4_col0\" class=\"data row4 col0\" >Naive Bayes</td>\n",
              "      <td id=\"T_d7635_row4_col1\" class=\"data row4 col1\" >0.7427</td>\n",
              "      <td id=\"T_d7635_row4_col2\" class=\"data row4 col2\" >0.7955</td>\n",
              "      <td id=\"T_d7635_row4_col3\" class=\"data row4 col3\" >0.5702</td>\n",
              "      <td id=\"T_d7635_row4_col4\" class=\"data row4 col4\" >0.6543</td>\n",
              "      <td id=\"T_d7635_row4_col5\" class=\"data row4 col5\" >0.6043</td>\n",
              "      <td id=\"T_d7635_row4_col6\" class=\"data row4 col6\" >0.4156</td>\n",
              "      <td id=\"T_d7635_row4_col7\" class=\"data row4 col7\" >0.4215</td>\n",
              "      <td id=\"T_d7635_row4_col8\" class=\"data row4 col8\" >0.0640</td>\n",
              "    </tr>\n",
              "    <tr>\n",
              "      <th id=\"T_d7635_level0_row5\" class=\"row_heading level0 row5\" >gbc</th>\n",
              "      <td id=\"T_d7635_row5_col0\" class=\"data row5 col0\" >Gradient Boosting Classifier</td>\n",
              "      <td id=\"T_d7635_row5_col1\" class=\"data row5 col1\" >0.7373</td>\n",
              "      <td id=\"T_d7635_row5_col2\" class=\"data row5 col2\" >0.7917</td>\n",
              "      <td id=\"T_d7635_row5_col3\" class=\"data row5 col3\" >0.5550</td>\n",
              "      <td id=\"T_d7635_row5_col4\" class=\"data row5 col4\" >0.6445</td>\n",
              "      <td id=\"T_d7635_row5_col5\" class=\"data row5 col5\" >0.5931</td>\n",
              "      <td id=\"T_d7635_row5_col6\" class=\"data row5 col6\" >0.4013</td>\n",
              "      <td id=\"T_d7635_row5_col7\" class=\"data row5 col7\" >0.4059</td>\n",
              "      <td id=\"T_d7635_row5_col8\" class=\"data row5 col8\" >0.3070</td>\n",
              "    </tr>\n",
              "    <tr>\n",
              "      <th id=\"T_d7635_level0_row6\" class=\"row_heading level0 row6\" >ada</th>\n",
              "      <td id=\"T_d7635_row6_col0\" class=\"data row6 col0\" >Ada Boost Classifier</td>\n",
              "      <td id=\"T_d7635_row6_col1\" class=\"data row6 col1\" >0.7372</td>\n",
              "      <td id=\"T_d7635_row6_col2\" class=\"data row6 col2\" >0.7799</td>\n",
              "      <td id=\"T_d7635_row6_col3\" class=\"data row6 col3\" >0.5275</td>\n",
              "      <td id=\"T_d7635_row6_col4\" class=\"data row6 col4\" >0.6585</td>\n",
              "      <td id=\"T_d7635_row6_col5\" class=\"data row6 col5\" >0.5796</td>\n",
              "      <td id=\"T_d7635_row6_col6\" class=\"data row6 col6\" >0.3926</td>\n",
              "      <td id=\"T_d7635_row6_col7\" class=\"data row6 col7\" >0.4017</td>\n",
              "      <td id=\"T_d7635_row6_col8\" class=\"data row6 col8\" >0.3910</td>\n",
              "    </tr>\n",
              "    <tr>\n",
              "      <th id=\"T_d7635_level0_row7\" class=\"row_heading level0 row7\" >et</th>\n",
              "      <td id=\"T_d7635_row7_col0\" class=\"data row7 col0\" >Extra Trees Classifier</td>\n",
              "      <td id=\"T_d7635_row7_col1\" class=\"data row7 col1\" >0.7299</td>\n",
              "      <td id=\"T_d7635_row7_col2\" class=\"data row7 col2\" >0.7788</td>\n",
              "      <td id=\"T_d7635_row7_col3\" class=\"data row7 col3\" >0.4965</td>\n",
              "      <td id=\"T_d7635_row7_col4\" class=\"data row7 col4\" >0.6516</td>\n",
              "      <td id=\"T_d7635_row7_col5\" class=\"data row7 col5\" >0.5596</td>\n",
              "      <td id=\"T_d7635_row7_col6\" class=\"data row7 col6\" >0.3706</td>\n",
              "      <td id=\"T_d7635_row7_col7\" class=\"data row7 col7\" >0.3802</td>\n",
              "      <td id=\"T_d7635_row7_col8\" class=\"data row7 col8\" >0.5600</td>\n",
              "    </tr>\n",
              "    <tr>\n",
              "      <th id=\"T_d7635_level0_row8\" class=\"row_heading level0 row8\" >qda</th>\n",
              "      <td id=\"T_d7635_row8_col0\" class=\"data row8 col0\" >Quadratic Discriminant Analysis</td>\n",
              "      <td id=\"T_d7635_row8_col1\" class=\"data row8 col1\" >0.7282</td>\n",
              "      <td id=\"T_d7635_row8_col2\" class=\"data row8 col2\" >0.7894</td>\n",
              "      <td id=\"T_d7635_row8_col3\" class=\"data row8 col3\" >0.5281</td>\n",
              "      <td id=\"T_d7635_row8_col4\" class=\"data row8 col4\" >0.6558</td>\n",
              "      <td id=\"T_d7635_row8_col5\" class=\"data row8 col5\" >0.5736</td>\n",
              "      <td id=\"T_d7635_row8_col6\" class=\"data row8 col6\" >0.3785</td>\n",
              "      <td id=\"T_d7635_row8_col7\" class=\"data row8 col7\" >0.3910</td>\n",
              "      <td id=\"T_d7635_row8_col8\" class=\"data row8 col8\" >0.1100</td>\n",
              "    </tr>\n",
              "    <tr>\n",
              "      <th id=\"T_d7635_level0_row9\" class=\"row_heading level0 row9\" >lightgbm</th>\n",
              "      <td id=\"T_d7635_row9_col0\" class=\"data row9 col0\" >Light Gradient Boosting Machine</td>\n",
              "      <td id=\"T_d7635_row9_col1\" class=\"data row9 col1\" >0.7133</td>\n",
              "      <td id=\"T_d7635_row9_col2\" class=\"data row9 col2\" >0.7645</td>\n",
              "      <td id=\"T_d7635_row9_col3\" class=\"data row9 col3\" >0.5398</td>\n",
              "      <td id=\"T_d7635_row9_col4\" class=\"data row9 col4\" >0.6036</td>\n",
              "      <td id=\"T_d7635_row9_col5\" class=\"data row9 col5\" >0.5650</td>\n",
              "      <td id=\"T_d7635_row9_col6\" class=\"data row9 col6\" >0.3534</td>\n",
              "      <td id=\"T_d7635_row9_col7\" class=\"data row9 col7\" >0.3580</td>\n",
              "      <td id=\"T_d7635_row9_col8\" class=\"data row9 col8\" >0.2280</td>\n",
              "    </tr>\n",
              "    <tr>\n",
              "      <th id=\"T_d7635_level0_row10\" class=\"row_heading level0 row10\" >knn</th>\n",
              "      <td id=\"T_d7635_row10_col0\" class=\"data row10 col0\" >K Neighbors Classifier</td>\n",
              "      <td id=\"T_d7635_row10_col1\" class=\"data row10 col1\" >0.7001</td>\n",
              "      <td id=\"T_d7635_row10_col2\" class=\"data row10 col2\" >0.7164</td>\n",
              "      <td id=\"T_d7635_row10_col3\" class=\"data row10 col3\" >0.5020</td>\n",
              "      <td id=\"T_d7635_row10_col4\" class=\"data row10 col4\" >0.5982</td>\n",
              "      <td id=\"T_d7635_row10_col5\" class=\"data row10 col5\" >0.5413</td>\n",
              "      <td id=\"T_d7635_row10_col6\" class=\"data row10 col6\" >0.3209</td>\n",
              "      <td id=\"T_d7635_row10_col7\" class=\"data row10 col7\" >0.3271</td>\n",
              "      <td id=\"T_d7635_row10_col8\" class=\"data row10 col8\" >0.0690</td>\n",
              "    </tr>\n",
              "    <tr>\n",
              "      <th id=\"T_d7635_level0_row11\" class=\"row_heading level0 row11\" >dt</th>\n",
              "      <td id=\"T_d7635_row11_col0\" class=\"data row11 col0\" >Decision Tree Classifier</td>\n",
              "      <td id=\"T_d7635_row11_col1\" class=\"data row11 col1\" >0.6928</td>\n",
              "      <td id=\"T_d7635_row11_col2\" class=\"data row11 col2\" >0.6512</td>\n",
              "      <td id=\"T_d7635_row11_col3\" class=\"data row11 col3\" >0.5137</td>\n",
              "      <td id=\"T_d7635_row11_col4\" class=\"data row11 col4\" >0.5636</td>\n",
              "      <td id=\"T_d7635_row11_col5\" class=\"data row11 col5\" >0.5328</td>\n",
              "      <td id=\"T_d7635_row11_col6\" class=\"data row11 col6\" >0.3070</td>\n",
              "      <td id=\"T_d7635_row11_col7\" class=\"data row11 col7\" >0.3098</td>\n",
              "      <td id=\"T_d7635_row11_col8\" class=\"data row11 col8\" >0.0660</td>\n",
              "    </tr>\n",
              "    <tr>\n",
              "      <th id=\"T_d7635_level0_row12\" class=\"row_heading level0 row12\" >xgboost</th>\n",
              "      <td id=\"T_d7635_row12_col0\" class=\"data row12 col0\" >Extreme Gradient Boosting</td>\n",
              "      <td id=\"T_d7635_row12_col1\" class=\"data row12 col1\" >0.6853</td>\n",
              "      <td id=\"T_d7635_row12_col2\" class=\"data row12 col2\" >0.7516</td>\n",
              "      <td id=\"T_d7635_row12_col3\" class=\"data row12 col3\" >0.4912</td>\n",
              "      <td id=\"T_d7635_row12_col4\" class=\"data row12 col4\" >0.5620</td>\n",
              "      <td id=\"T_d7635_row12_col5\" class=\"data row12 col5\" >0.5216</td>\n",
              "      <td id=\"T_d7635_row12_col6\" class=\"data row12 col6\" >0.2887</td>\n",
              "      <td id=\"T_d7635_row12_col7\" class=\"data row12 col7\" >0.2922</td>\n",
              "      <td id=\"T_d7635_row12_col8\" class=\"data row12 col8\" >0.3300</td>\n",
              "    </tr>\n",
              "    <tr>\n",
              "      <th id=\"T_d7635_level0_row13\" class=\"row_heading level0 row13\" >dummy</th>\n",
              "      <td id=\"T_d7635_row13_col0\" class=\"data row13 col0\" >Dummy Classifier</td>\n",
              "      <td id=\"T_d7635_row13_col1\" class=\"data row13 col1\" >0.6518</td>\n",
              "      <td id=\"T_d7635_row13_col2\" class=\"data row13 col2\" >0.5000</td>\n",
              "      <td id=\"T_d7635_row13_col3\" class=\"data row13 col3\" >0.0000</td>\n",
              "      <td id=\"T_d7635_row13_col4\" class=\"data row13 col4\" >0.0000</td>\n",
              "      <td id=\"T_d7635_row13_col5\" class=\"data row13 col5\" >0.0000</td>\n",
              "      <td id=\"T_d7635_row13_col6\" class=\"data row13 col6\" >0.0000</td>\n",
              "      <td id=\"T_d7635_row13_col7\" class=\"data row13 col7\" >0.0000</td>\n",
              "      <td id=\"T_d7635_row13_col8\" class=\"data row13 col8\" >0.0690</td>\n",
              "    </tr>\n",
              "    <tr>\n",
              "      <th id=\"T_d7635_level0_row14\" class=\"row_heading level0 row14\" >svm</th>\n",
              "      <td id=\"T_d7635_row14_col0\" class=\"data row14 col0\" >SVM - Linear Kernel</td>\n",
              "      <td id=\"T_d7635_row14_col1\" class=\"data row14 col1\" >0.5954</td>\n",
              "      <td id=\"T_d7635_row14_col2\" class=\"data row14 col2\" >0.0000</td>\n",
              "      <td id=\"T_d7635_row14_col3\" class=\"data row14 col3\" >0.3395</td>\n",
              "      <td id=\"T_d7635_row14_col4\" class=\"data row14 col4\" >0.4090</td>\n",
              "      <td id=\"T_d7635_row14_col5\" class=\"data row14 col5\" >0.2671</td>\n",
              "      <td id=\"T_d7635_row14_col6\" class=\"data row14 col6\" >0.0720</td>\n",
              "      <td id=\"T_d7635_row14_col7\" class=\"data row14 col7\" >0.0912</td>\n",
              "      <td id=\"T_d7635_row14_col8\" class=\"data row14 col8\" >0.0510</td>\n",
              "    </tr>\n",
              "  </tbody>\n",
              "</table>\n"
            ]
          },
          "metadata": {}
        },
        {
          "output_type": "display_data",
          "data": {
            "text/plain": [
              "Processing:   0%|          | 0/65 [00:00<?, ?it/s]"
            ],
            "application/vnd.jupyter.widget-view+json": {
              "version_major": 2,
              "version_minor": 0,
              "model_id": "b81f3b75d0a047bca88e2abe41e33ec3"
            }
          },
          "metadata": {
            "application/vnd.jupyter.widget-view+json": {
              "colab": {
                "custom_widget_manager": {
                  "url": "https://ssl.gstatic.com/colaboratory-static/widgets/colab-cdn-widget-manager/b3e629b1971e1542/manager.min.js"
                }
              }
            }
          }
        },
        {
          "output_type": "display_data",
          "data": {
            "text/plain": [
              "<IPython.core.display.HTML object>"
            ],
            "text/html": []
          },
          "metadata": {}
        },
        {
          "output_type": "display_data",
          "data": {
            "text/plain": [
              "<IPython.core.display.HTML object>"
            ],
            "text/html": []
          },
          "metadata": {}
        },
        {
          "output_type": "display_data",
          "data": {
            "text/plain": [
              "<pandas.io.formats.style.Styler at 0x7f5041a890c0>"
            ],
            "text/html": [
              "<style type=\"text/css\">\n",
              "#T_fbdfc th {\n",
              "  text-align: left;\n",
              "}\n",
              "#T_fbdfc_row0_col0, #T_fbdfc_row0_col2, #T_fbdfc_row0_col3, #T_fbdfc_row0_col4, #T_fbdfc_row1_col0, #T_fbdfc_row1_col1, #T_fbdfc_row1_col2, #T_fbdfc_row1_col3, #T_fbdfc_row1_col5, #T_fbdfc_row1_col6, #T_fbdfc_row1_col7, #T_fbdfc_row2_col0, #T_fbdfc_row2_col1, #T_fbdfc_row2_col3, #T_fbdfc_row2_col4, #T_fbdfc_row2_col5, #T_fbdfc_row2_col6, #T_fbdfc_row2_col7, #T_fbdfc_row3_col0, #T_fbdfc_row3_col1, #T_fbdfc_row3_col2, #T_fbdfc_row3_col3, #T_fbdfc_row3_col4, #T_fbdfc_row3_col5, #T_fbdfc_row3_col6, #T_fbdfc_row3_col7, #T_fbdfc_row4_col0, #T_fbdfc_row4_col1, #T_fbdfc_row4_col2, #T_fbdfc_row4_col4, #T_fbdfc_row4_col5, #T_fbdfc_row4_col6, #T_fbdfc_row4_col7, #T_fbdfc_row5_col0, #T_fbdfc_row5_col1, #T_fbdfc_row5_col2, #T_fbdfc_row5_col3, #T_fbdfc_row5_col4, #T_fbdfc_row5_col5, #T_fbdfc_row5_col6, #T_fbdfc_row5_col7, #T_fbdfc_row6_col0, #T_fbdfc_row6_col1, #T_fbdfc_row6_col2, #T_fbdfc_row6_col3, #T_fbdfc_row6_col4, #T_fbdfc_row6_col5, #T_fbdfc_row6_col6, #T_fbdfc_row6_col7, #T_fbdfc_row7_col0, #T_fbdfc_row7_col1, #T_fbdfc_row7_col2, #T_fbdfc_row7_col3, #T_fbdfc_row7_col4, #T_fbdfc_row7_col5, #T_fbdfc_row7_col6, #T_fbdfc_row7_col7, #T_fbdfc_row8_col0, #T_fbdfc_row8_col1, #T_fbdfc_row8_col2, #T_fbdfc_row8_col3, #T_fbdfc_row8_col4, #T_fbdfc_row8_col5, #T_fbdfc_row8_col6, #T_fbdfc_row8_col7, #T_fbdfc_row9_col0, #T_fbdfc_row9_col1, #T_fbdfc_row9_col2, #T_fbdfc_row9_col3, #T_fbdfc_row9_col4, #T_fbdfc_row9_col5, #T_fbdfc_row9_col6, #T_fbdfc_row9_col7, #T_fbdfc_row10_col0, #T_fbdfc_row10_col1, #T_fbdfc_row10_col2, #T_fbdfc_row10_col3, #T_fbdfc_row10_col4, #T_fbdfc_row10_col5, #T_fbdfc_row10_col6, #T_fbdfc_row10_col7, #T_fbdfc_row11_col0, #T_fbdfc_row11_col1, #T_fbdfc_row11_col2, #T_fbdfc_row11_col3, #T_fbdfc_row11_col4, #T_fbdfc_row11_col5, #T_fbdfc_row11_col6, #T_fbdfc_row11_col7, #T_fbdfc_row12_col0, #T_fbdfc_row12_col1, #T_fbdfc_row12_col2, #T_fbdfc_row12_col3, #T_fbdfc_row12_col4, #T_fbdfc_row12_col5, #T_fbdfc_row12_col6, #T_fbdfc_row12_col7, #T_fbdfc_row13_col0, #T_fbdfc_row13_col1, #T_fbdfc_row13_col2, #T_fbdfc_row13_col3, #T_fbdfc_row13_col4, #T_fbdfc_row13_col5, #T_fbdfc_row13_col6, #T_fbdfc_row13_col7, #T_fbdfc_row14_col0, #T_fbdfc_row14_col1, #T_fbdfc_row14_col2, #T_fbdfc_row14_col3, #T_fbdfc_row14_col4, #T_fbdfc_row14_col5, #T_fbdfc_row14_col6, #T_fbdfc_row14_col7 {\n",
              "  text-align: left;\n",
              "}\n",
              "#T_fbdfc_row0_col1, #T_fbdfc_row0_col5, #T_fbdfc_row0_col6, #T_fbdfc_row0_col7, #T_fbdfc_row1_col4, #T_fbdfc_row2_col2, #T_fbdfc_row4_col3 {\n",
              "  text-align: left;\n",
              "  background-color: yellow;\n",
              "}\n",
              "#T_fbdfc_row0_col8, #T_fbdfc_row1_col8, #T_fbdfc_row2_col8, #T_fbdfc_row3_col8, #T_fbdfc_row4_col8, #T_fbdfc_row5_col8, #T_fbdfc_row6_col8, #T_fbdfc_row7_col8, #T_fbdfc_row8_col8, #T_fbdfc_row9_col8, #T_fbdfc_row10_col8, #T_fbdfc_row11_col8, #T_fbdfc_row12_col8, #T_fbdfc_row13_col8 {\n",
              "  text-align: left;\n",
              "  background-color: lightgrey;\n",
              "}\n",
              "#T_fbdfc_row14_col8 {\n",
              "  text-align: left;\n",
              "  background-color: yellow;\n",
              "  background-color: lightgrey;\n",
              "}\n",
              "</style>\n",
              "<table id=\"T_fbdfc\" class=\"dataframe\">\n",
              "  <thead>\n",
              "    <tr>\n",
              "      <th class=\"blank level0\" >&nbsp;</th>\n",
              "      <th id=\"T_fbdfc_level0_col0\" class=\"col_heading level0 col0\" >Model</th>\n",
              "      <th id=\"T_fbdfc_level0_col1\" class=\"col_heading level0 col1\" >Accuracy</th>\n",
              "      <th id=\"T_fbdfc_level0_col2\" class=\"col_heading level0 col2\" >AUC</th>\n",
              "      <th id=\"T_fbdfc_level0_col3\" class=\"col_heading level0 col3\" >Recall</th>\n",
              "      <th id=\"T_fbdfc_level0_col4\" class=\"col_heading level0 col4\" >Prec.</th>\n",
              "      <th id=\"T_fbdfc_level0_col5\" class=\"col_heading level0 col5\" >F1</th>\n",
              "      <th id=\"T_fbdfc_level0_col6\" class=\"col_heading level0 col6\" >Kappa</th>\n",
              "      <th id=\"T_fbdfc_level0_col7\" class=\"col_heading level0 col7\" >MCC</th>\n",
              "      <th id=\"T_fbdfc_level0_col8\" class=\"col_heading level0 col8\" >TT (Sec)</th>\n",
              "    </tr>\n",
              "  </thead>\n",
              "  <tbody>\n",
              "    <tr>\n",
              "      <th id=\"T_fbdfc_level0_row0\" class=\"row_heading level0 row0\" >lr</th>\n",
              "      <td id=\"T_fbdfc_row0_col0\" class=\"data row0 col0\" >Logistic Regression</td>\n",
              "      <td id=\"T_fbdfc_row0_col1\" class=\"data row0 col1\" >0.7689</td>\n",
              "      <td id=\"T_fbdfc_row0_col2\" class=\"data row0 col2\" >0.8047</td>\n",
              "      <td id=\"T_fbdfc_row0_col3\" class=\"data row0 col3\" >0.5602</td>\n",
              "      <td id=\"T_fbdfc_row0_col4\" class=\"data row0 col4\" >0.7208</td>\n",
              "      <td id=\"T_fbdfc_row0_col5\" class=\"data row0 col5\" >0.6279</td>\n",
              "      <td id=\"T_fbdfc_row0_col6\" class=\"data row0 col6\" >0.4641</td>\n",
              "      <td id=\"T_fbdfc_row0_col7\" class=\"data row0 col7\" >0.4736</td>\n",
              "      <td id=\"T_fbdfc_row0_col8\" class=\"data row0 col8\" >0.0930</td>\n",
              "    </tr>\n",
              "    <tr>\n",
              "      <th id=\"T_fbdfc_level0_row1\" class=\"row_heading level0 row1\" >ridge</th>\n",
              "      <td id=\"T_fbdfc_row1_col0\" class=\"data row1 col0\" >Ridge Classifier</td>\n",
              "      <td id=\"T_fbdfc_row1_col1\" class=\"data row1 col1\" >0.7670</td>\n",
              "      <td id=\"T_fbdfc_row1_col2\" class=\"data row1 col2\" >0.0000</td>\n",
              "      <td id=\"T_fbdfc_row1_col3\" class=\"data row1 col3\" >0.5497</td>\n",
              "      <td id=\"T_fbdfc_row1_col4\" class=\"data row1 col4\" >0.7235</td>\n",
              "      <td id=\"T_fbdfc_row1_col5\" class=\"data row1 col5\" >0.6221</td>\n",
              "      <td id=\"T_fbdfc_row1_col6\" class=\"data row1 col6\" >0.4581</td>\n",
              "      <td id=\"T_fbdfc_row1_col7\" class=\"data row1 col7\" >0.4690</td>\n",
              "      <td id=\"T_fbdfc_row1_col8\" class=\"data row1 col8\" >0.0870</td>\n",
              "    </tr>\n",
              "    <tr>\n",
              "      <th id=\"T_fbdfc_level0_row2\" class=\"row_heading level0 row2\" >lda</th>\n",
              "      <td id=\"T_fbdfc_row2_col0\" class=\"data row2 col0\" >Linear Discriminant Analysis</td>\n",
              "      <td id=\"T_fbdfc_row2_col1\" class=\"data row2 col1\" >0.7670</td>\n",
              "      <td id=\"T_fbdfc_row2_col2\" class=\"data row2 col2\" >0.8055</td>\n",
              "      <td id=\"T_fbdfc_row2_col3\" class=\"data row2 col3\" >0.5550</td>\n",
              "      <td id=\"T_fbdfc_row2_col4\" class=\"data row2 col4\" >0.7202</td>\n",
              "      <td id=\"T_fbdfc_row2_col5\" class=\"data row2 col5\" >0.6243</td>\n",
              "      <td id=\"T_fbdfc_row2_col6\" class=\"data row2 col6\" >0.4594</td>\n",
              "      <td id=\"T_fbdfc_row2_col7\" class=\"data row2 col7\" >0.4695</td>\n",
              "      <td id=\"T_fbdfc_row2_col8\" class=\"data row2 col8\" >0.0730</td>\n",
              "    </tr>\n",
              "    <tr>\n",
              "      <th id=\"T_fbdfc_level0_row3\" class=\"row_heading level0 row3\" >rf</th>\n",
              "      <td id=\"T_fbdfc_row3_col0\" class=\"data row3 col0\" >Random Forest Classifier</td>\n",
              "      <td id=\"T_fbdfc_row3_col1\" class=\"data row3 col1\" >0.7485</td>\n",
              "      <td id=\"T_fbdfc_row3_col2\" class=\"data row3 col2\" >0.7911</td>\n",
              "      <td id=\"T_fbdfc_row3_col3\" class=\"data row3 col3\" >0.5284</td>\n",
              "      <td id=\"T_fbdfc_row3_col4\" class=\"data row3 col4\" >0.6811</td>\n",
              "      <td id=\"T_fbdfc_row3_col5\" class=\"data row3 col5\" >0.5924</td>\n",
              "      <td id=\"T_fbdfc_row3_col6\" class=\"data row3 col6\" >0.4150</td>\n",
              "      <td id=\"T_fbdfc_row3_col7\" class=\"data row3 col7\" >0.4238</td>\n",
              "      <td id=\"T_fbdfc_row3_col8\" class=\"data row3 col8\" >0.5150</td>\n",
              "    </tr>\n",
              "    <tr>\n",
              "      <th id=\"T_fbdfc_level0_row4\" class=\"row_heading level0 row4\" >nb</th>\n",
              "      <td id=\"T_fbdfc_row4_col0\" class=\"data row4 col0\" >Naive Bayes</td>\n",
              "      <td id=\"T_fbdfc_row4_col1\" class=\"data row4 col1\" >0.7427</td>\n",
              "      <td id=\"T_fbdfc_row4_col2\" class=\"data row4 col2\" >0.7955</td>\n",
              "      <td id=\"T_fbdfc_row4_col3\" class=\"data row4 col3\" >0.5702</td>\n",
              "      <td id=\"T_fbdfc_row4_col4\" class=\"data row4 col4\" >0.6543</td>\n",
              "      <td id=\"T_fbdfc_row4_col5\" class=\"data row4 col5\" >0.6043</td>\n",
              "      <td id=\"T_fbdfc_row4_col6\" class=\"data row4 col6\" >0.4156</td>\n",
              "      <td id=\"T_fbdfc_row4_col7\" class=\"data row4 col7\" >0.4215</td>\n",
              "      <td id=\"T_fbdfc_row4_col8\" class=\"data row4 col8\" >0.0720</td>\n",
              "    </tr>\n",
              "    <tr>\n",
              "      <th id=\"T_fbdfc_level0_row5\" class=\"row_heading level0 row5\" >gbc</th>\n",
              "      <td id=\"T_fbdfc_row5_col0\" class=\"data row5 col0\" >Gradient Boosting Classifier</td>\n",
              "      <td id=\"T_fbdfc_row5_col1\" class=\"data row5 col1\" >0.7373</td>\n",
              "      <td id=\"T_fbdfc_row5_col2\" class=\"data row5 col2\" >0.7917</td>\n",
              "      <td id=\"T_fbdfc_row5_col3\" class=\"data row5 col3\" >0.5550</td>\n",
              "      <td id=\"T_fbdfc_row5_col4\" class=\"data row5 col4\" >0.6445</td>\n",
              "      <td id=\"T_fbdfc_row5_col5\" class=\"data row5 col5\" >0.5931</td>\n",
              "      <td id=\"T_fbdfc_row5_col6\" class=\"data row5 col6\" >0.4013</td>\n",
              "      <td id=\"T_fbdfc_row5_col7\" class=\"data row5 col7\" >0.4059</td>\n",
              "      <td id=\"T_fbdfc_row5_col8\" class=\"data row5 col8\" >0.1880</td>\n",
              "    </tr>\n",
              "    <tr>\n",
              "      <th id=\"T_fbdfc_level0_row6\" class=\"row_heading level0 row6\" >ada</th>\n",
              "      <td id=\"T_fbdfc_row6_col0\" class=\"data row6 col0\" >Ada Boost Classifier</td>\n",
              "      <td id=\"T_fbdfc_row6_col1\" class=\"data row6 col1\" >0.7372</td>\n",
              "      <td id=\"T_fbdfc_row6_col2\" class=\"data row6 col2\" >0.7799</td>\n",
              "      <td id=\"T_fbdfc_row6_col3\" class=\"data row6 col3\" >0.5275</td>\n",
              "      <td id=\"T_fbdfc_row6_col4\" class=\"data row6 col4\" >0.6585</td>\n",
              "      <td id=\"T_fbdfc_row6_col5\" class=\"data row6 col5\" >0.5796</td>\n",
              "      <td id=\"T_fbdfc_row6_col6\" class=\"data row6 col6\" >0.3926</td>\n",
              "      <td id=\"T_fbdfc_row6_col7\" class=\"data row6 col7\" >0.4017</td>\n",
              "      <td id=\"T_fbdfc_row6_col8\" class=\"data row6 col8\" >0.1450</td>\n",
              "    </tr>\n",
              "    <tr>\n",
              "      <th id=\"T_fbdfc_level0_row7\" class=\"row_heading level0 row7\" >et</th>\n",
              "      <td id=\"T_fbdfc_row7_col0\" class=\"data row7 col0\" >Extra Trees Classifier</td>\n",
              "      <td id=\"T_fbdfc_row7_col1\" class=\"data row7 col1\" >0.7299</td>\n",
              "      <td id=\"T_fbdfc_row7_col2\" class=\"data row7 col2\" >0.7788</td>\n",
              "      <td id=\"T_fbdfc_row7_col3\" class=\"data row7 col3\" >0.4965</td>\n",
              "      <td id=\"T_fbdfc_row7_col4\" class=\"data row7 col4\" >0.6516</td>\n",
              "      <td id=\"T_fbdfc_row7_col5\" class=\"data row7 col5\" >0.5596</td>\n",
              "      <td id=\"T_fbdfc_row7_col6\" class=\"data row7 col6\" >0.3706</td>\n",
              "      <td id=\"T_fbdfc_row7_col7\" class=\"data row7 col7\" >0.3802</td>\n",
              "      <td id=\"T_fbdfc_row7_col8\" class=\"data row7 col8\" >0.3080</td>\n",
              "    </tr>\n",
              "    <tr>\n",
              "      <th id=\"T_fbdfc_level0_row8\" class=\"row_heading level0 row8\" >qda</th>\n",
              "      <td id=\"T_fbdfc_row8_col0\" class=\"data row8 col0\" >Quadratic Discriminant Analysis</td>\n",
              "      <td id=\"T_fbdfc_row8_col1\" class=\"data row8 col1\" >0.7282</td>\n",
              "      <td id=\"T_fbdfc_row8_col2\" class=\"data row8 col2\" >0.7894</td>\n",
              "      <td id=\"T_fbdfc_row8_col3\" class=\"data row8 col3\" >0.5281</td>\n",
              "      <td id=\"T_fbdfc_row8_col4\" class=\"data row8 col4\" >0.6558</td>\n",
              "      <td id=\"T_fbdfc_row8_col5\" class=\"data row8 col5\" >0.5736</td>\n",
              "      <td id=\"T_fbdfc_row8_col6\" class=\"data row8 col6\" >0.3785</td>\n",
              "      <td id=\"T_fbdfc_row8_col7\" class=\"data row8 col7\" >0.3910</td>\n",
              "      <td id=\"T_fbdfc_row8_col8\" class=\"data row8 col8\" >0.1000</td>\n",
              "    </tr>\n",
              "    <tr>\n",
              "      <th id=\"T_fbdfc_level0_row9\" class=\"row_heading level0 row9\" >lightgbm</th>\n",
              "      <td id=\"T_fbdfc_row9_col0\" class=\"data row9 col0\" >Light Gradient Boosting Machine</td>\n",
              "      <td id=\"T_fbdfc_row9_col1\" class=\"data row9 col1\" >0.7133</td>\n",
              "      <td id=\"T_fbdfc_row9_col2\" class=\"data row9 col2\" >0.7645</td>\n",
              "      <td id=\"T_fbdfc_row9_col3\" class=\"data row9 col3\" >0.5398</td>\n",
              "      <td id=\"T_fbdfc_row9_col4\" class=\"data row9 col4\" >0.6036</td>\n",
              "      <td id=\"T_fbdfc_row9_col5\" class=\"data row9 col5\" >0.5650</td>\n",
              "      <td id=\"T_fbdfc_row9_col6\" class=\"data row9 col6\" >0.3534</td>\n",
              "      <td id=\"T_fbdfc_row9_col7\" class=\"data row9 col7\" >0.3580</td>\n",
              "      <td id=\"T_fbdfc_row9_col8\" class=\"data row9 col8\" >0.2390</td>\n",
              "    </tr>\n",
              "    <tr>\n",
              "      <th id=\"T_fbdfc_level0_row10\" class=\"row_heading level0 row10\" >knn</th>\n",
              "      <td id=\"T_fbdfc_row10_col0\" class=\"data row10 col0\" >K Neighbors Classifier</td>\n",
              "      <td id=\"T_fbdfc_row10_col1\" class=\"data row10 col1\" >0.7001</td>\n",
              "      <td id=\"T_fbdfc_row10_col2\" class=\"data row10 col2\" >0.7164</td>\n",
              "      <td id=\"T_fbdfc_row10_col3\" class=\"data row10 col3\" >0.5020</td>\n",
              "      <td id=\"T_fbdfc_row10_col4\" class=\"data row10 col4\" >0.5982</td>\n",
              "      <td id=\"T_fbdfc_row10_col5\" class=\"data row10 col5\" >0.5413</td>\n",
              "      <td id=\"T_fbdfc_row10_col6\" class=\"data row10 col6\" >0.3209</td>\n",
              "      <td id=\"T_fbdfc_row10_col7\" class=\"data row10 col7\" >0.3271</td>\n",
              "      <td id=\"T_fbdfc_row10_col8\" class=\"data row10 col8\" >0.0800</td>\n",
              "    </tr>\n",
              "    <tr>\n",
              "      <th id=\"T_fbdfc_level0_row11\" class=\"row_heading level0 row11\" >dt</th>\n",
              "      <td id=\"T_fbdfc_row11_col0\" class=\"data row11 col0\" >Decision Tree Classifier</td>\n",
              "      <td id=\"T_fbdfc_row11_col1\" class=\"data row11 col1\" >0.6928</td>\n",
              "      <td id=\"T_fbdfc_row11_col2\" class=\"data row11 col2\" >0.6512</td>\n",
              "      <td id=\"T_fbdfc_row11_col3\" class=\"data row11 col3\" >0.5137</td>\n",
              "      <td id=\"T_fbdfc_row11_col4\" class=\"data row11 col4\" >0.5636</td>\n",
              "      <td id=\"T_fbdfc_row11_col5\" class=\"data row11 col5\" >0.5328</td>\n",
              "      <td id=\"T_fbdfc_row11_col6\" class=\"data row11 col6\" >0.3070</td>\n",
              "      <td id=\"T_fbdfc_row11_col7\" class=\"data row11 col7\" >0.3098</td>\n",
              "      <td id=\"T_fbdfc_row11_col8\" class=\"data row11 col8\" >0.0720</td>\n",
              "    </tr>\n",
              "    <tr>\n",
              "      <th id=\"T_fbdfc_level0_row12\" class=\"row_heading level0 row12\" >xgboost</th>\n",
              "      <td id=\"T_fbdfc_row12_col0\" class=\"data row12 col0\" >Extreme Gradient Boosting</td>\n",
              "      <td id=\"T_fbdfc_row12_col1\" class=\"data row12 col1\" >0.6853</td>\n",
              "      <td id=\"T_fbdfc_row12_col2\" class=\"data row12 col2\" >0.7516</td>\n",
              "      <td id=\"T_fbdfc_row12_col3\" class=\"data row12 col3\" >0.4912</td>\n",
              "      <td id=\"T_fbdfc_row12_col4\" class=\"data row12 col4\" >0.5620</td>\n",
              "      <td id=\"T_fbdfc_row12_col5\" class=\"data row12 col5\" >0.5216</td>\n",
              "      <td id=\"T_fbdfc_row12_col6\" class=\"data row12 col6\" >0.2887</td>\n",
              "      <td id=\"T_fbdfc_row12_col7\" class=\"data row12 col7\" >0.2922</td>\n",
              "      <td id=\"T_fbdfc_row12_col8\" class=\"data row12 col8\" >0.0760</td>\n",
              "    </tr>\n",
              "    <tr>\n",
              "      <th id=\"T_fbdfc_level0_row13\" class=\"row_heading level0 row13\" >dummy</th>\n",
              "      <td id=\"T_fbdfc_row13_col0\" class=\"data row13 col0\" >Dummy Classifier</td>\n",
              "      <td id=\"T_fbdfc_row13_col1\" class=\"data row13 col1\" >0.6518</td>\n",
              "      <td id=\"T_fbdfc_row13_col2\" class=\"data row13 col2\" >0.5000</td>\n",
              "      <td id=\"T_fbdfc_row13_col3\" class=\"data row13 col3\" >0.0000</td>\n",
              "      <td id=\"T_fbdfc_row13_col4\" class=\"data row13 col4\" >0.0000</td>\n",
              "      <td id=\"T_fbdfc_row13_col5\" class=\"data row13 col5\" >0.0000</td>\n",
              "      <td id=\"T_fbdfc_row13_col6\" class=\"data row13 col6\" >0.0000</td>\n",
              "      <td id=\"T_fbdfc_row13_col7\" class=\"data row13 col7\" >0.0000</td>\n",
              "      <td id=\"T_fbdfc_row13_col8\" class=\"data row13 col8\" >0.1250</td>\n",
              "    </tr>\n",
              "    <tr>\n",
              "      <th id=\"T_fbdfc_level0_row14\" class=\"row_heading level0 row14\" >svm</th>\n",
              "      <td id=\"T_fbdfc_row14_col0\" class=\"data row14 col0\" >SVM - Linear Kernel</td>\n",
              "      <td id=\"T_fbdfc_row14_col1\" class=\"data row14 col1\" >0.5954</td>\n",
              "      <td id=\"T_fbdfc_row14_col2\" class=\"data row14 col2\" >0.0000</td>\n",
              "      <td id=\"T_fbdfc_row14_col3\" class=\"data row14 col3\" >0.3395</td>\n",
              "      <td id=\"T_fbdfc_row14_col4\" class=\"data row14 col4\" >0.4090</td>\n",
              "      <td id=\"T_fbdfc_row14_col5\" class=\"data row14 col5\" >0.2671</td>\n",
              "      <td id=\"T_fbdfc_row14_col6\" class=\"data row14 col6\" >0.0720</td>\n",
              "      <td id=\"T_fbdfc_row14_col7\" class=\"data row14 col7\" >0.0912</td>\n",
              "      <td id=\"T_fbdfc_row14_col8\" class=\"data row14 col8\" >0.0590</td>\n",
              "    </tr>\n",
              "  </tbody>\n",
              "</table>\n"
            ]
          },
          "metadata": {}
        },
        {
          "output_type": "display_data",
          "data": {
            "text/plain": [
              "Processing:   0%|          | 0/65 [00:00<?, ?it/s]"
            ],
            "application/vnd.jupyter.widget-view+json": {
              "version_major": 2,
              "version_minor": 0,
              "model_id": "1d003321abb74b16b14b21a0f3d4bda6"
            }
          },
          "metadata": {
            "application/vnd.jupyter.widget-view+json": {
              "colab": {
                "custom_widget_manager": {
                  "url": "https://ssl.gstatic.com/colaboratory-static/widgets/colab-cdn-widget-manager/b3e629b1971e1542/manager.min.js"
                }
              }
            }
          }
        },
        {
          "output_type": "display_data",
          "data": {
            "text/plain": [
              "<IPython.core.display.HTML object>"
            ],
            "text/html": []
          },
          "metadata": {}
        }
      ]
    },
    {
      "cell_type": "markdown",
      "source": [
        "#print(best)"
      ],
      "metadata": {
        "id": "yd6ehbTO8J4Q"
      }
    },
    {
      "cell_type": "code",
      "source": [
        "print(best)"
      ],
      "metadata": {
        "id": "ZJEUtna58Ld_"
      },
      "execution_count": null,
      "outputs": []
    },
    {
      "cell_type": "markdown",
      "source": [
        "#Analyze Model\n"
      ],
      "metadata": {
        "id": "lPB9afqH8O_I"
      }
    },
    {
      "cell_type": "code",
      "source": [
        "# functional API\n",
        "evaluate_model(best)\n",
        "\n",
        "# OOP API\n",
        "s.evaluate_model(best)"
      ],
      "metadata": {
        "id": "Jt6YVeG-8Rv4"
      },
      "execution_count": null,
      "outputs": []
    },
    {
      "cell_type": "code",
      "source": [
        "# functional API\n",
        "plot_model(best, plot = 'auc')\n",
        "\n",
        "# OOP API\n",
        "s.plot_model(best, plot = 'auc')"
      ],
      "metadata": {
        "id": "3N8_pgAf8uxo"
      },
      "execution_count": null,
      "outputs": []
    },
    {
      "cell_type": "code",
      "source": [
        "# functional API\n",
        "plot_model(best, plot = 'confusion_matrix')\n",
        "\n",
        "# OOP API\n",
        "s.plot_model(best, plot = 'confusion_matrix')"
      ],
      "metadata": {
        "id": "TURBcRNQ8zpP"
      },
      "execution_count": null,
      "outputs": []
    },
    {
      "cell_type": "markdown",
      "source": [
        "#Predictions"
      ],
      "metadata": {
        "id": "CoxbnTgf83ro"
      }
    },
    {
      "cell_type": "code",
      "source": [
        "# functional API\n",
        "predict_model(best)\n",
        "\n",
        "# OOP API\n",
        "s.predict_model(best)"
      ],
      "metadata": {
        "id": "jAyc0esD80dP"
      },
      "execution_count": null,
      "outputs": []
    },
    {
      "cell_type": "code",
      "source": [
        "# functional API\n",
        "predictions = predict_model(best, data=data)\n",
        "predictions.head()\n",
        "\n",
        "# OOP API\n",
        "predictions = s.predict_model(best, data=data)\n",
        "predictions.head()"
      ],
      "metadata": {
        "id": "EZFviheV87Ug"
      },
      "execution_count": null,
      "outputs": []
    },
    {
      "cell_type": "markdown",
      "source": [
        "#Save the model\n"
      ],
      "metadata": {
        "id": "dQF_VnHr9HfX"
      }
    },
    {
      "cell_type": "code",
      "source": [
        "# functional API\n",
        "save_model(best, 'my_best_pipeline')\n",
        "\n",
        "# OOP API\n",
        "s.save_model(best, 'my_best_pipeline')"
      ],
      "metadata": {
        "id": "EdXHDhrn87Hf"
      },
      "execution_count": null,
      "outputs": []
    },
    {
      "cell_type": "markdown",
      "source": [
        "#To load the model back in environment:\n"
      ],
      "metadata": {
        "id": "7x2eVqlc9PTv"
      }
    },
    {
      "cell_type": "code",
      "source": [
        "# functional API\n",
        "loaded_model = load_model('my_best_pipeline')\n",
        "print(loaded_model)\n",
        "\n",
        "# OOP API\n",
        "loaded_model = s.load_model('my_best_pipeline')\n",
        "print(loaded_model)"
      ],
      "metadata": {
        "id": "3xDjAre280Nv"
      },
      "execution_count": null,
      "outputs": []
    },
    {
      "cell_type": "markdown",
      "source": [
        "#Regression"
      ],
      "metadata": {
        "id": "h2GnzLLd9TMX"
      }
    },
    {
      "cell_type": "code",
      "source": [
        "# load sample dataset\n",
        "from pycaret.datasets import get_data\n",
        "data = get_data('insurance')"
      ],
      "metadata": {
        "id": "BAooXIYD9WI_"
      },
      "execution_count": null,
      "outputs": []
    },
    {
      "cell_type": "markdown",
      "source": [
        "#Functional API\n"
      ],
      "metadata": {
        "id": "rVRCZGit_5ke"
      }
    },
    {
      "cell_type": "code",
      "source": [
        "from pycaret.regression import *\n",
        "s = setup(data, target = 'charges', session_id = 123)"
      ],
      "metadata": {
        "id": "sG7wN7Tw9b_3"
      },
      "execution_count": null,
      "outputs": []
    },
    {
      "cell_type": "markdown",
      "source": [
        "#OOP API\n"
      ],
      "metadata": {
        "id": "770RUqQqADFv"
      }
    },
    {
      "cell_type": "code",
      "source": [
        "from pycaret.regression import RegressionExperiment\n",
        "s = RegressionExperiment()\n",
        "s.setup(data, target = 'charges', session_id = 123)"
      ],
      "metadata": {
        "id": "qxMA2yIe9Ztv"
      },
      "execution_count": null,
      "outputs": []
    },
    {
      "cell_type": "markdown",
      "source": [
        "#Compare Models\n"
      ],
      "metadata": {
        "id": "sYcioV3y8quf"
      }
    },
    {
      "cell_type": "code",
      "source": [
        "# functional API\n",
        "best = compare_models()\n",
        "\n",
        "# OOP API\n",
        "best = s.compare_models()"
      ],
      "metadata": {
        "colab": {
          "base_uri": "https://localhost:8080/",
          "height": 1000,
          "referenced_widgets": [
            "bec7156337974410bc442bb0f1a00c3e",
            "e1a5696b691548239bf85a2d89f57d0c",
            "150ff71eee9f484cb2b2bf2da5dedb22",
            "4c2a22f1209940229e75f12a88c189f6",
            "0526fb48e8d94ee5b4955a7b63a86202",
            "121b42aedb574a55af9a2ce2858ec15a",
            "21c521f1eb20468daa32d78b23afdee5",
            "f610bfd7098d47f29d674faeb072e37f",
            "0884c6e1cc7c44098f0f12fd2261ce85",
            "ab5f7dd4179d47b18d094bb8b9669f58",
            "08171bc007f64563ab4bf47244e1a44f",
            "9cc3c98849e9494abe22e449b5cede7d",
            "af2b6289db644d458762ab1e66a96638",
            "e54fe796979a4f2f96b70d59344d21e3",
            "86c0419e71c9430aac3807c5f4db375b",
            "470602ed9e5d41968afa576b99ac7112",
            "3734740a497d401080572ae1647b4020",
            "3c528f14280e41a890fb5aa5974eef8c",
            "346cefcd78de45ee90b585ada4b5a50b",
            "f4abeacb5dfd409ab3c4f29d6a64398f",
            "ce0f0f681d154d4ca4ec030d9526bd62",
            "e5228027aa744726a2cab8e370d9b447"
          ]
        },
        "id": "Vgc7cVpSAKav",
        "outputId": "12f33ebb-77ea-4c4b-c20a-54638a241b09"
      },
      "execution_count": 17,
      "outputs": [
        {
          "output_type": "display_data",
          "data": {
            "text/plain": [
              "<IPython.core.display.HTML object>"
            ],
            "text/html": []
          },
          "metadata": {}
        },
        {
          "output_type": "display_data",
          "data": {
            "text/plain": [
              "<pandas.io.formats.style.Styler at 0x7f5060c57940>"
            ],
            "text/html": [
              "<style type=\"text/css\">\n",
              "#T_16527 th {\n",
              "  text-align: left;\n",
              "}\n",
              "#T_16527_row0_col0, #T_16527_row0_col6, #T_16527_row1_col0, #T_16527_row1_col1, #T_16527_row1_col2, #T_16527_row1_col3, #T_16527_row1_col4, #T_16527_row1_col5, #T_16527_row1_col6, #T_16527_row2_col0, #T_16527_row2_col1, #T_16527_row2_col2, #T_16527_row2_col3, #T_16527_row2_col4, #T_16527_row2_col5, #T_16527_row2_col6, #T_16527_row3_col0, #T_16527_row3_col1, #T_16527_row3_col2, #T_16527_row3_col3, #T_16527_row3_col4, #T_16527_row3_col5, #T_16527_row3_col6, #T_16527_row4_col0, #T_16527_row4_col1, #T_16527_row4_col2, #T_16527_row4_col3, #T_16527_row4_col4, #T_16527_row4_col5, #T_16527_row4_col6, #T_16527_row5_col0, #T_16527_row5_col1, #T_16527_row5_col2, #T_16527_row5_col3, #T_16527_row5_col4, #T_16527_row5_col5, #T_16527_row5_col6, #T_16527_row6_col0, #T_16527_row6_col1, #T_16527_row6_col2, #T_16527_row6_col3, #T_16527_row6_col4, #T_16527_row6_col5, #T_16527_row6_col6, #T_16527_row7_col0, #T_16527_row7_col1, #T_16527_row7_col2, #T_16527_row7_col3, #T_16527_row7_col4, #T_16527_row7_col5, #T_16527_row7_col6, #T_16527_row8_col0, #T_16527_row8_col1, #T_16527_row8_col2, #T_16527_row8_col3, #T_16527_row8_col4, #T_16527_row8_col5, #T_16527_row8_col6, #T_16527_row9_col0, #T_16527_row9_col1, #T_16527_row9_col2, #T_16527_row9_col3, #T_16527_row9_col4, #T_16527_row9_col5, #T_16527_row9_col6, #T_16527_row10_col0, #T_16527_row10_col1, #T_16527_row10_col2, #T_16527_row10_col3, #T_16527_row10_col4, #T_16527_row10_col5, #T_16527_row10_col6, #T_16527_row11_col0, #T_16527_row11_col1, #T_16527_row11_col2, #T_16527_row11_col3, #T_16527_row11_col4, #T_16527_row11_col5, #T_16527_row11_col6, #T_16527_row12_col0, #T_16527_row12_col1, #T_16527_row12_col2, #T_16527_row12_col3, #T_16527_row12_col4, #T_16527_row12_col5, #T_16527_row13_col0, #T_16527_row13_col1, #T_16527_row13_col2, #T_16527_row13_col3, #T_16527_row13_col4, #T_16527_row13_col5, #T_16527_row13_col6, #T_16527_row14_col0, #T_16527_row14_col1, #T_16527_row14_col2, #T_16527_row14_col3, #T_16527_row14_col4, #T_16527_row14_col5, #T_16527_row14_col6, #T_16527_row15_col0, #T_16527_row15_col1, #T_16527_row15_col2, #T_16527_row15_col3, #T_16527_row15_col4, #T_16527_row15_col5, #T_16527_row15_col6, #T_16527_row16_col0, #T_16527_row16_col1, #T_16527_row16_col2, #T_16527_row16_col3, #T_16527_row16_col4, #T_16527_row16_col5, #T_16527_row16_col6, #T_16527_row17_col0, #T_16527_row17_col1, #T_16527_row17_col2, #T_16527_row17_col3, #T_16527_row17_col4, #T_16527_row17_col5, #T_16527_row17_col6, #T_16527_row18_col0, #T_16527_row18_col1, #T_16527_row18_col2, #T_16527_row18_col3, #T_16527_row18_col4, #T_16527_row18_col5, #T_16527_row18_col6 {\n",
              "  text-align: left;\n",
              "}\n",
              "#T_16527_row0_col1, #T_16527_row0_col2, #T_16527_row0_col3, #T_16527_row0_col4, #T_16527_row0_col5, #T_16527_row12_col6 {\n",
              "  text-align: left;\n",
              "  background-color: yellow;\n",
              "}\n",
              "#T_16527_row0_col7, #T_16527_row1_col7, #T_16527_row2_col7, #T_16527_row3_col7, #T_16527_row4_col7, #T_16527_row5_col7, #T_16527_row6_col7, #T_16527_row8_col7, #T_16527_row9_col7, #T_16527_row10_col7, #T_16527_row11_col7, #T_16527_row12_col7, #T_16527_row13_col7, #T_16527_row14_col7, #T_16527_row15_col7, #T_16527_row16_col7, #T_16527_row17_col7, #T_16527_row18_col7 {\n",
              "  text-align: left;\n",
              "  background-color: lightgrey;\n",
              "}\n",
              "#T_16527_row7_col7 {\n",
              "  text-align: left;\n",
              "  background-color: yellow;\n",
              "  background-color: lightgrey;\n",
              "}\n",
              "</style>\n",
              "<table id=\"T_16527\" class=\"dataframe\">\n",
              "  <thead>\n",
              "    <tr>\n",
              "      <th class=\"blank level0\" >&nbsp;</th>\n",
              "      <th id=\"T_16527_level0_col0\" class=\"col_heading level0 col0\" >Model</th>\n",
              "      <th id=\"T_16527_level0_col1\" class=\"col_heading level0 col1\" >MAE</th>\n",
              "      <th id=\"T_16527_level0_col2\" class=\"col_heading level0 col2\" >MSE</th>\n",
              "      <th id=\"T_16527_level0_col3\" class=\"col_heading level0 col3\" >RMSE</th>\n",
              "      <th id=\"T_16527_level0_col4\" class=\"col_heading level0 col4\" >R2</th>\n",
              "      <th id=\"T_16527_level0_col5\" class=\"col_heading level0 col5\" >RMSLE</th>\n",
              "      <th id=\"T_16527_level0_col6\" class=\"col_heading level0 col6\" >MAPE</th>\n",
              "      <th id=\"T_16527_level0_col7\" class=\"col_heading level0 col7\" >TT (Sec)</th>\n",
              "    </tr>\n",
              "  </thead>\n",
              "  <tbody>\n",
              "    <tr>\n",
              "      <th id=\"T_16527_level0_row0\" class=\"row_heading level0 row0\" >gbr</th>\n",
              "      <td id=\"T_16527_row0_col0\" class=\"data row0 col0\" >Gradient Boosting Regressor</td>\n",
              "      <td id=\"T_16527_row0_col1\" class=\"data row0 col1\" >2701.9919</td>\n",
              "      <td id=\"T_16527_row0_col2\" class=\"data row0 col2\" >23548657.1177</td>\n",
              "      <td id=\"T_16527_row0_col3\" class=\"data row0 col3\" >4832.9329</td>\n",
              "      <td id=\"T_16527_row0_col4\" class=\"data row0 col4\" >0.8320</td>\n",
              "      <td id=\"T_16527_row0_col5\" class=\"data row0 col5\" >0.4447</td>\n",
              "      <td id=\"T_16527_row0_col6\" class=\"data row0 col6\" >0.3137</td>\n",
              "      <td id=\"T_16527_row0_col7\" class=\"data row0 col7\" >0.7970</td>\n",
              "    </tr>\n",
              "    <tr>\n",
              "      <th id=\"T_16527_level0_row1\" class=\"row_heading level0 row1\" >rf</th>\n",
              "      <td id=\"T_16527_row1_col0\" class=\"data row1 col0\" >Random Forest Regressor</td>\n",
              "      <td id=\"T_16527_row1_col1\" class=\"data row1 col1\" >2771.4583</td>\n",
              "      <td id=\"T_16527_row1_col2\" class=\"data row1 col2\" >25416502.3827</td>\n",
              "      <td id=\"T_16527_row1_col3\" class=\"data row1 col3\" >5028.6343</td>\n",
              "      <td id=\"T_16527_row1_col4\" class=\"data row1 col4\" >0.8172</td>\n",
              "      <td id=\"T_16527_row1_col5\" class=\"data row1 col5\" >0.4690</td>\n",
              "      <td id=\"T_16527_row1_col6\" class=\"data row1 col6\" >0.3303</td>\n",
              "      <td id=\"T_16527_row1_col7\" class=\"data row1 col7\" >0.8610</td>\n",
              "    </tr>\n",
              "    <tr>\n",
              "      <th id=\"T_16527_level0_row2\" class=\"row_heading level0 row2\" >lightgbm</th>\n",
              "      <td id=\"T_16527_row2_col0\" class=\"data row2 col0\" >Light Gradient Boosting Machine</td>\n",
              "      <td id=\"T_16527_row2_col1\" class=\"data row2 col1\" >2992.1828</td>\n",
              "      <td id=\"T_16527_row2_col2\" class=\"data row2 col2\" >25521038.3331</td>\n",
              "      <td id=\"T_16527_row2_col3\" class=\"data row2 col3\" >5042.0978</td>\n",
              "      <td id=\"T_16527_row2_col4\" class=\"data row2 col4\" >0.8149</td>\n",
              "      <td id=\"T_16527_row2_col5\" class=\"data row2 col5\" >0.5378</td>\n",
              "      <td id=\"T_16527_row2_col6\" class=\"data row2 col6\" >0.3751</td>\n",
              "      <td id=\"T_16527_row2_col7\" class=\"data row2 col7\" >0.3260</td>\n",
              "    </tr>\n",
              "    <tr>\n",
              "      <th id=\"T_16527_level0_row3\" class=\"row_heading level0 row3\" >et</th>\n",
              "      <td id=\"T_16527_row3_col0\" class=\"data row3 col0\" >Extra Trees Regressor</td>\n",
              "      <td id=\"T_16527_row3_col1\" class=\"data row3 col1\" >2833.3624</td>\n",
              "      <td id=\"T_16527_row3_col2\" class=\"data row3 col2\" >28427844.2412</td>\n",
              "      <td id=\"T_16527_row3_col3\" class=\"data row3 col3\" >5305.6516</td>\n",
              "      <td id=\"T_16527_row3_col4\" class=\"data row3 col4\" >0.7991</td>\n",
              "      <td id=\"T_16527_row3_col5\" class=\"data row3 col5\" >0.4877</td>\n",
              "      <td id=\"T_16527_row3_col6\" class=\"data row3 col6\" >0.3363</td>\n",
              "      <td id=\"T_16527_row3_col7\" class=\"data row3 col7\" >0.5320</td>\n",
              "    </tr>\n",
              "    <tr>\n",
              "      <th id=\"T_16527_level0_row4\" class=\"row_heading level0 row4\" >ada</th>\n",
              "      <td id=\"T_16527_row4_col0\" class=\"data row4 col0\" >AdaBoost Regressor</td>\n",
              "      <td id=\"T_16527_row4_col1\" class=\"data row4 col1\" >4316.0568</td>\n",
              "      <td id=\"T_16527_row4_col2\" class=\"data row4 col2\" >29220505.6498</td>\n",
              "      <td id=\"T_16527_row4_col3\" class=\"data row4 col3\" >5398.4561</td>\n",
              "      <td id=\"T_16527_row4_col4\" class=\"data row4 col4\" >0.7903</td>\n",
              "      <td id=\"T_16527_row4_col5\" class=\"data row4 col5\" >0.6368</td>\n",
              "      <td id=\"T_16527_row4_col6\" class=\"data row4 col6\" >0.7394</td>\n",
              "      <td id=\"T_16527_row4_col7\" class=\"data row4 col7\" >0.1910</td>\n",
              "    </tr>\n",
              "    <tr>\n",
              "      <th id=\"T_16527_level0_row5\" class=\"row_heading level0 row5\" >xgboost</th>\n",
              "      <td id=\"T_16527_row5_col0\" class=\"data row5 col0\" >Extreme Gradient Boosting</td>\n",
              "      <td id=\"T_16527_row5_col1\" class=\"data row5 col1\" >3443.6091</td>\n",
              "      <td id=\"T_16527_row5_col2\" class=\"data row5 col2\" >32824626.4000</td>\n",
              "      <td id=\"T_16527_row5_col3\" class=\"data row5 col3\" >5711.2140</td>\n",
              "      <td id=\"T_16527_row5_col4\" class=\"data row5 col4\" >0.7626</td>\n",
              "      <td id=\"T_16527_row5_col5\" class=\"data row5 col5\" >0.6224</td>\n",
              "      <td id=\"T_16527_row5_col6\" class=\"data row5 col6\" >0.4469</td>\n",
              "      <td id=\"T_16527_row5_col7\" class=\"data row5 col7\" >0.2830</td>\n",
              "    </tr>\n",
              "    <tr>\n",
              "      <th id=\"T_16527_level0_row6\" class=\"row_heading level0 row6\" >br</th>\n",
              "      <td id=\"T_16527_row6_col0\" class=\"data row6 col0\" >Bayesian Ridge</td>\n",
              "      <td id=\"T_16527_row6_col1\" class=\"data row6 col1\" >4311.2349</td>\n",
              "      <td id=\"T_16527_row6_col2\" class=\"data row6 col2\" >38391950.0874</td>\n",
              "      <td id=\"T_16527_row6_col3\" class=\"data row6 col3\" >6176.8896</td>\n",
              "      <td id=\"T_16527_row6_col4\" class=\"data row6 col4\" >0.7306</td>\n",
              "      <td id=\"T_16527_row6_col5\" class=\"data row6 col5\" >0.5910</td>\n",
              "      <td id=\"T_16527_row6_col6\" class=\"data row6 col6\" >0.4447</td>\n",
              "      <td id=\"T_16527_row6_col7\" class=\"data row6 col7\" >0.3970</td>\n",
              "    </tr>\n",
              "    <tr>\n",
              "      <th id=\"T_16527_level0_row7\" class=\"row_heading level0 row7\" >llar</th>\n",
              "      <td id=\"T_16527_row7_col0\" class=\"data row7 col0\" >Lasso Least Angle Regression</td>\n",
              "      <td id=\"T_16527_row7_col1\" class=\"data row7 col1\" >4303.7694</td>\n",
              "      <td id=\"T_16527_row7_col2\" class=\"data row7 col2\" >38386824.2786</td>\n",
              "      <td id=\"T_16527_row7_col3\" class=\"data row7 col3\" >6176.4846</td>\n",
              "      <td id=\"T_16527_row7_col4\" class=\"data row7 col4\" >0.7306</td>\n",
              "      <td id=\"T_16527_row7_col5\" class=\"data row7 col5\" >0.5952</td>\n",
              "      <td id=\"T_16527_row7_col6\" class=\"data row7 col6\" >0.4434</td>\n",
              "      <td id=\"T_16527_row7_col7\" class=\"data row7 col7\" >0.1630</td>\n",
              "    </tr>\n",
              "    <tr>\n",
              "      <th id=\"T_16527_level0_row8\" class=\"row_heading level0 row8\" >lr</th>\n",
              "      <td id=\"T_16527_row8_col0\" class=\"data row8 col0\" >Linear Regression</td>\n",
              "      <td id=\"T_16527_row8_col1\" class=\"data row8 col1\" >4303.5559</td>\n",
              "      <td id=\"T_16527_row8_col2\" class=\"data row8 col2\" >38388058.4578</td>\n",
              "      <td id=\"T_16527_row8_col3\" class=\"data row8 col3\" >6176.5920</td>\n",
              "      <td id=\"T_16527_row8_col4\" class=\"data row8 col4\" >0.7306</td>\n",
              "      <td id=\"T_16527_row8_col5\" class=\"data row8 col5\" >0.5949</td>\n",
              "      <td id=\"T_16527_row8_col6\" class=\"data row8 col6\" >0.4433</td>\n",
              "      <td id=\"T_16527_row8_col7\" class=\"data row8 col7\" >0.6320</td>\n",
              "    </tr>\n",
              "    <tr>\n",
              "      <th id=\"T_16527_level0_row9\" class=\"row_heading level0 row9\" >lar</th>\n",
              "      <td id=\"T_16527_row9_col0\" class=\"data row9 col0\" >Least Angle Regression</td>\n",
              "      <td id=\"T_16527_row9_col1\" class=\"data row9 col1\" >4303.5559</td>\n",
              "      <td id=\"T_16527_row9_col2\" class=\"data row9 col2\" >38388058.4578</td>\n",
              "      <td id=\"T_16527_row9_col3\" class=\"data row9 col3\" >6176.5920</td>\n",
              "      <td id=\"T_16527_row9_col4\" class=\"data row9 col4\" >0.7306</td>\n",
              "      <td id=\"T_16527_row9_col5\" class=\"data row9 col5\" >0.5949</td>\n",
              "      <td id=\"T_16527_row9_col6\" class=\"data row9 col6\" >0.4433</td>\n",
              "      <td id=\"T_16527_row9_col7\" class=\"data row9 col7\" >0.1680</td>\n",
              "    </tr>\n",
              "    <tr>\n",
              "      <th id=\"T_16527_level0_row10\" class=\"row_heading level0 row10\" >ridge</th>\n",
              "      <td id=\"T_16527_row10_col0\" class=\"data row10 col0\" >Ridge Regression</td>\n",
              "      <td id=\"T_16527_row10_col1\" class=\"data row10 col1\" >4317.6984</td>\n",
              "      <td id=\"T_16527_row10_col2\" class=\"data row10 col2\" >38396435.9578</td>\n",
              "      <td id=\"T_16527_row10_col3\" class=\"data row10 col3\" >6177.2329</td>\n",
              "      <td id=\"T_16527_row10_col4\" class=\"data row10 col4\" >0.7306</td>\n",
              "      <td id=\"T_16527_row10_col5\" class=\"data row10 col5\" >0.5891</td>\n",
              "      <td id=\"T_16527_row10_col6\" class=\"data row10 col6\" >0.4459</td>\n",
              "      <td id=\"T_16527_row10_col7\" class=\"data row10 col7\" >0.1700</td>\n",
              "    </tr>\n",
              "    <tr>\n",
              "      <th id=\"T_16527_level0_row11\" class=\"row_heading level0 row11\" >lasso</th>\n",
              "      <td id=\"T_16527_row11_col0\" class=\"data row11 col0\" >Lasso Regression</td>\n",
              "      <td id=\"T_16527_row11_col1\" class=\"data row11 col1\" >4303.7697</td>\n",
              "      <td id=\"T_16527_row11_col2\" class=\"data row11 col2\" >38386797.6709</td>\n",
              "      <td id=\"T_16527_row11_col3\" class=\"data row11 col3\" >6176.4824</td>\n",
              "      <td id=\"T_16527_row11_col4\" class=\"data row11 col4\" >0.7306</td>\n",
              "      <td id=\"T_16527_row11_col5\" class=\"data row11 col5\" >0.5952</td>\n",
              "      <td id=\"T_16527_row11_col6\" class=\"data row11 col6\" >0.4434</td>\n",
              "      <td id=\"T_16527_row11_col7\" class=\"data row11 col7\" >0.3170</td>\n",
              "    </tr>\n",
              "    <tr>\n",
              "      <th id=\"T_16527_level0_row12\" class=\"row_heading level0 row12\" >huber</th>\n",
              "      <td id=\"T_16527_row12_col0\" class=\"data row12 col0\" >Huber Regressor</td>\n",
              "      <td id=\"T_16527_row12_col1\" class=\"data row12 col1\" >3463.2216</td>\n",
              "      <td id=\"T_16527_row12_col2\" class=\"data row12 col2\" >48801106.4612</td>\n",
              "      <td id=\"T_16527_row12_col3\" class=\"data row12 col3\" >6963.9984</td>\n",
              "      <td id=\"T_16527_row12_col4\" class=\"data row12 col4\" >0.6544</td>\n",
              "      <td id=\"T_16527_row12_col5\" class=\"data row12 col5\" >0.4927</td>\n",
              "      <td id=\"T_16527_row12_col6\" class=\"data row12 col6\" >0.2212</td>\n",
              "      <td id=\"T_16527_row12_col7\" class=\"data row12 col7\" >0.2020</td>\n",
              "    </tr>\n",
              "    <tr>\n",
              "      <th id=\"T_16527_level0_row13\" class=\"row_heading level0 row13\" >dt</th>\n",
              "      <td id=\"T_16527_row13_col0\" class=\"data row13 col0\" >Decision Tree Regressor</td>\n",
              "      <td id=\"T_16527_row13_col1\" class=\"data row13 col1\" >3383.4916</td>\n",
              "      <td id=\"T_16527_row13_col2\" class=\"data row13 col2\" >47823199.0729</td>\n",
              "      <td id=\"T_16527_row13_col3\" class=\"data row13 col3\" >6895.7016</td>\n",
              "      <td id=\"T_16527_row13_col4\" class=\"data row13 col4\" >0.6497</td>\n",
              "      <td id=\"T_16527_row13_col5\" class=\"data row13 col5\" >0.5602</td>\n",
              "      <td id=\"T_16527_row13_col6\" class=\"data row13 col6\" >0.4013</td>\n",
              "      <td id=\"T_16527_row13_col7\" class=\"data row13 col7\" >0.1740</td>\n",
              "    </tr>\n",
              "    <tr>\n",
              "      <th id=\"T_16527_level0_row14\" class=\"row_heading level0 row14\" >par</th>\n",
              "      <td id=\"T_16527_row14_col0\" class=\"data row14 col0\" >Passive Aggressive Regressor</td>\n",
              "      <td id=\"T_16527_row14_col1\" class=\"data row14 col1\" >4537.0122</td>\n",
              "      <td id=\"T_16527_row14_col2\" class=\"data row14 col2\" >67346309.9218</td>\n",
              "      <td id=\"T_16527_row14_col3\" class=\"data row14 col3\" >8142.7826</td>\n",
              "      <td id=\"T_16527_row14_col4\" class=\"data row14 col4\" >0.5422</td>\n",
              "      <td id=\"T_16527_row14_col5\" class=\"data row14 col5\" >0.5276</td>\n",
              "      <td id=\"T_16527_row14_col6\" class=\"data row14 col6\" >0.3207</td>\n",
              "      <td id=\"T_16527_row14_col7\" class=\"data row14 col7\" >0.1910</td>\n",
              "    </tr>\n",
              "    <tr>\n",
              "      <th id=\"T_16527_level0_row15\" class=\"row_heading level0 row15\" >en</th>\n",
              "      <td id=\"T_16527_row15_col0\" class=\"data row15 col0\" >Elastic Net</td>\n",
              "      <td id=\"T_16527_row15_col1\" class=\"data row15 col1\" >7372.5238</td>\n",
              "      <td id=\"T_16527_row15_col2\" class=\"data row15 col2\" >90450782.5713</td>\n",
              "      <td id=\"T_16527_row15_col3\" class=\"data row15 col3\" >9468.3193</td>\n",
              "      <td id=\"T_16527_row15_col4\" class=\"data row15 col4\" >0.3792</td>\n",
              "      <td id=\"T_16527_row15_col5\" class=\"data row15 col5\" >0.7342</td>\n",
              "      <td id=\"T_16527_row15_col6\" class=\"data row15 col6\" >0.9184</td>\n",
              "      <td id=\"T_16527_row15_col7\" class=\"data row15 col7\" >0.1670</td>\n",
              "    </tr>\n",
              "    <tr>\n",
              "      <th id=\"T_16527_level0_row16\" class=\"row_heading level0 row16\" >omp</th>\n",
              "      <td id=\"T_16527_row16_col0\" class=\"data row16 col0\" >Orthogonal Matching Pursuit</td>\n",
              "      <td id=\"T_16527_row16_col1\" class=\"data row16 col1\" >9089.9268</td>\n",
              "      <td id=\"T_16527_row16_col2\" class=\"data row16 col2\" >133439413.5272</td>\n",
              "      <td id=\"T_16527_row16_col3\" class=\"data row16 col3\" >11488.4238</td>\n",
              "      <td id=\"T_16527_row16_col4\" class=\"data row16 col4\" >0.0884</td>\n",
              "      <td id=\"T_16527_row16_col5\" class=\"data row16 col5\" >0.8790</td>\n",
              "      <td id=\"T_16527_row16_col6\" class=\"data row16 col6\" >1.1514</td>\n",
              "      <td id=\"T_16527_row16_col7\" class=\"data row16 col7\" >0.1660</td>\n",
              "    </tr>\n",
              "    <tr>\n",
              "      <th id=\"T_16527_level0_row17\" class=\"row_heading level0 row17\" >knn</th>\n",
              "      <td id=\"T_16527_row17_col0\" class=\"data row17 col0\" >K Neighbors Regressor</td>\n",
              "      <td id=\"T_16527_row17_col1\" class=\"data row17 col1\" >8007.1197</td>\n",
              "      <td id=\"T_16527_row17_col2\" class=\"data row17 col2\" >131380022.4000</td>\n",
              "      <td id=\"T_16527_row17_col3\" class=\"data row17 col3\" >11424.9843</td>\n",
              "      <td id=\"T_16527_row17_col4\" class=\"data row17 col4\" >0.0860</td>\n",
              "      <td id=\"T_16527_row17_col5\" class=\"data row17 col5\" >0.8535</td>\n",
              "      <td id=\"T_16527_row17_col6\" class=\"data row17 col6\" >0.9231</td>\n",
              "      <td id=\"T_16527_row17_col7\" class=\"data row17 col7\" >0.1700</td>\n",
              "    </tr>\n",
              "    <tr>\n",
              "      <th id=\"T_16527_level0_row18\" class=\"row_heading level0 row18\" >dummy</th>\n",
              "      <td id=\"T_16527_row18_col0\" class=\"data row18 col0\" >Dummy Regressor</td>\n",
              "      <td id=\"T_16527_row18_col1\" class=\"data row18 col1\" >9192.5418</td>\n",
              "      <td id=\"T_16527_row18_col2\" class=\"data row18 col2\" >148516792.8000</td>\n",
              "      <td id=\"T_16527_row18_col3\" class=\"data row18 col3\" >12132.4733</td>\n",
              "      <td id=\"T_16527_row18_col4\" class=\"data row18 col4\" >-0.0175</td>\n",
              "      <td id=\"T_16527_row18_col5\" class=\"data row18 col5\" >1.0154</td>\n",
              "      <td id=\"T_16527_row18_col6\" class=\"data row18 col6\" >1.5637</td>\n",
              "      <td id=\"T_16527_row18_col7\" class=\"data row18 col7\" >0.1640</td>\n",
              "    </tr>\n",
              "  </tbody>\n",
              "</table>\n"
            ]
          },
          "metadata": {}
        },
        {
          "output_type": "display_data",
          "data": {
            "text/plain": [
              "Processing:   0%|          | 0/81 [00:00<?, ?it/s]"
            ],
            "application/vnd.jupyter.widget-view+json": {
              "version_major": 2,
              "version_minor": 0,
              "model_id": "bec7156337974410bc442bb0f1a00c3e"
            }
          },
          "metadata": {
            "application/vnd.jupyter.widget-view+json": {
              "colab": {
                "custom_widget_manager": {
                  "url": "https://ssl.gstatic.com/colaboratory-static/widgets/colab-cdn-widget-manager/b3e629b1971e1542/manager.min.js"
                }
              }
            }
          }
        },
        {
          "output_type": "display_data",
          "data": {
            "text/plain": [
              "<IPython.core.display.HTML object>"
            ],
            "text/html": []
          },
          "metadata": {}
        },
        {
          "output_type": "display_data",
          "data": {
            "text/plain": [
              "<IPython.core.display.HTML object>"
            ],
            "text/html": []
          },
          "metadata": {}
        },
        {
          "output_type": "display_data",
          "data": {
            "text/plain": [
              "<pandas.io.formats.style.Styler at 0x7f5093aafee0>"
            ],
            "text/html": [
              "<style type=\"text/css\">\n",
              "#T_b9a89 th {\n",
              "  text-align: left;\n",
              "}\n",
              "#T_b9a89_row0_col0, #T_b9a89_row0_col6, #T_b9a89_row1_col0, #T_b9a89_row1_col1, #T_b9a89_row1_col2, #T_b9a89_row1_col3, #T_b9a89_row1_col4, #T_b9a89_row1_col5, #T_b9a89_row1_col6, #T_b9a89_row2_col0, #T_b9a89_row2_col1, #T_b9a89_row2_col2, #T_b9a89_row2_col3, #T_b9a89_row2_col4, #T_b9a89_row2_col5, #T_b9a89_row2_col6, #T_b9a89_row3_col0, #T_b9a89_row3_col1, #T_b9a89_row3_col2, #T_b9a89_row3_col3, #T_b9a89_row3_col4, #T_b9a89_row3_col5, #T_b9a89_row3_col6, #T_b9a89_row4_col0, #T_b9a89_row4_col1, #T_b9a89_row4_col2, #T_b9a89_row4_col3, #T_b9a89_row4_col4, #T_b9a89_row4_col5, #T_b9a89_row4_col6, #T_b9a89_row5_col0, #T_b9a89_row5_col1, #T_b9a89_row5_col2, #T_b9a89_row5_col3, #T_b9a89_row5_col4, #T_b9a89_row5_col5, #T_b9a89_row5_col6, #T_b9a89_row6_col0, #T_b9a89_row6_col1, #T_b9a89_row6_col2, #T_b9a89_row6_col3, #T_b9a89_row6_col4, #T_b9a89_row6_col5, #T_b9a89_row6_col6, #T_b9a89_row7_col0, #T_b9a89_row7_col1, #T_b9a89_row7_col2, #T_b9a89_row7_col3, #T_b9a89_row7_col4, #T_b9a89_row7_col5, #T_b9a89_row7_col6, #T_b9a89_row8_col0, #T_b9a89_row8_col1, #T_b9a89_row8_col2, #T_b9a89_row8_col3, #T_b9a89_row8_col4, #T_b9a89_row8_col5, #T_b9a89_row8_col6, #T_b9a89_row9_col0, #T_b9a89_row9_col1, #T_b9a89_row9_col2, #T_b9a89_row9_col3, #T_b9a89_row9_col4, #T_b9a89_row9_col5, #T_b9a89_row9_col6, #T_b9a89_row10_col0, #T_b9a89_row10_col1, #T_b9a89_row10_col2, #T_b9a89_row10_col3, #T_b9a89_row10_col4, #T_b9a89_row10_col5, #T_b9a89_row10_col6, #T_b9a89_row11_col0, #T_b9a89_row11_col1, #T_b9a89_row11_col2, #T_b9a89_row11_col3, #T_b9a89_row11_col4, #T_b9a89_row11_col5, #T_b9a89_row11_col6, #T_b9a89_row12_col0, #T_b9a89_row12_col1, #T_b9a89_row12_col2, #T_b9a89_row12_col3, #T_b9a89_row12_col4, #T_b9a89_row12_col5, #T_b9a89_row13_col0, #T_b9a89_row13_col1, #T_b9a89_row13_col2, #T_b9a89_row13_col3, #T_b9a89_row13_col4, #T_b9a89_row13_col5, #T_b9a89_row13_col6, #T_b9a89_row14_col0, #T_b9a89_row14_col1, #T_b9a89_row14_col2, #T_b9a89_row14_col3, #T_b9a89_row14_col4, #T_b9a89_row14_col5, #T_b9a89_row14_col6, #T_b9a89_row15_col0, #T_b9a89_row15_col1, #T_b9a89_row15_col2, #T_b9a89_row15_col3, #T_b9a89_row15_col4, #T_b9a89_row15_col5, #T_b9a89_row15_col6, #T_b9a89_row16_col0, #T_b9a89_row16_col1, #T_b9a89_row16_col2, #T_b9a89_row16_col3, #T_b9a89_row16_col4, #T_b9a89_row16_col5, #T_b9a89_row16_col6, #T_b9a89_row17_col0, #T_b9a89_row17_col1, #T_b9a89_row17_col2, #T_b9a89_row17_col3, #T_b9a89_row17_col4, #T_b9a89_row17_col5, #T_b9a89_row17_col6, #T_b9a89_row18_col0, #T_b9a89_row18_col1, #T_b9a89_row18_col2, #T_b9a89_row18_col3, #T_b9a89_row18_col4, #T_b9a89_row18_col5, #T_b9a89_row18_col6 {\n",
              "  text-align: left;\n",
              "}\n",
              "#T_b9a89_row0_col1, #T_b9a89_row0_col2, #T_b9a89_row0_col3, #T_b9a89_row0_col4, #T_b9a89_row0_col5, #T_b9a89_row12_col6 {\n",
              "  text-align: left;\n",
              "  background-color: yellow;\n",
              "}\n",
              "#T_b9a89_row0_col7, #T_b9a89_row1_col7, #T_b9a89_row2_col7, #T_b9a89_row3_col7, #T_b9a89_row4_col7, #T_b9a89_row5_col7, #T_b9a89_row6_col7, #T_b9a89_row7_col7, #T_b9a89_row8_col7, #T_b9a89_row9_col7, #T_b9a89_row10_col7, #T_b9a89_row12_col7, #T_b9a89_row13_col7, #T_b9a89_row14_col7, #T_b9a89_row15_col7, #T_b9a89_row16_col7, #T_b9a89_row17_col7, #T_b9a89_row18_col7 {\n",
              "  text-align: left;\n",
              "  background-color: lightgrey;\n",
              "}\n",
              "#T_b9a89_row11_col7 {\n",
              "  text-align: left;\n",
              "  background-color: yellow;\n",
              "  background-color: lightgrey;\n",
              "}\n",
              "</style>\n",
              "<table id=\"T_b9a89\" class=\"dataframe\">\n",
              "  <thead>\n",
              "    <tr>\n",
              "      <th class=\"blank level0\" >&nbsp;</th>\n",
              "      <th id=\"T_b9a89_level0_col0\" class=\"col_heading level0 col0\" >Model</th>\n",
              "      <th id=\"T_b9a89_level0_col1\" class=\"col_heading level0 col1\" >MAE</th>\n",
              "      <th id=\"T_b9a89_level0_col2\" class=\"col_heading level0 col2\" >MSE</th>\n",
              "      <th id=\"T_b9a89_level0_col3\" class=\"col_heading level0 col3\" >RMSE</th>\n",
              "      <th id=\"T_b9a89_level0_col4\" class=\"col_heading level0 col4\" >R2</th>\n",
              "      <th id=\"T_b9a89_level0_col5\" class=\"col_heading level0 col5\" >RMSLE</th>\n",
              "      <th id=\"T_b9a89_level0_col6\" class=\"col_heading level0 col6\" >MAPE</th>\n",
              "      <th id=\"T_b9a89_level0_col7\" class=\"col_heading level0 col7\" >TT (Sec)</th>\n",
              "    </tr>\n",
              "  </thead>\n",
              "  <tbody>\n",
              "    <tr>\n",
              "      <th id=\"T_b9a89_level0_row0\" class=\"row_heading level0 row0\" >gbr</th>\n",
              "      <td id=\"T_b9a89_row0_col0\" class=\"data row0 col0\" >Gradient Boosting Regressor</td>\n",
              "      <td id=\"T_b9a89_row0_col1\" class=\"data row0 col1\" >2701.9919</td>\n",
              "      <td id=\"T_b9a89_row0_col2\" class=\"data row0 col2\" >23548657.1177</td>\n",
              "      <td id=\"T_b9a89_row0_col3\" class=\"data row0 col3\" >4832.9329</td>\n",
              "      <td id=\"T_b9a89_row0_col4\" class=\"data row0 col4\" >0.8320</td>\n",
              "      <td id=\"T_b9a89_row0_col5\" class=\"data row0 col5\" >0.4447</td>\n",
              "      <td id=\"T_b9a89_row0_col6\" class=\"data row0 col6\" >0.3137</td>\n",
              "      <td id=\"T_b9a89_row0_col7\" class=\"data row0 col7\" >0.2970</td>\n",
              "    </tr>\n",
              "    <tr>\n",
              "      <th id=\"T_b9a89_level0_row1\" class=\"row_heading level0 row1\" >rf</th>\n",
              "      <td id=\"T_b9a89_row1_col0\" class=\"data row1 col0\" >Random Forest Regressor</td>\n",
              "      <td id=\"T_b9a89_row1_col1\" class=\"data row1 col1\" >2771.4583</td>\n",
              "      <td id=\"T_b9a89_row1_col2\" class=\"data row1 col2\" >25416502.3827</td>\n",
              "      <td id=\"T_b9a89_row1_col3\" class=\"data row1 col3\" >5028.6343</td>\n",
              "      <td id=\"T_b9a89_row1_col4\" class=\"data row1 col4\" >0.8172</td>\n",
              "      <td id=\"T_b9a89_row1_col5\" class=\"data row1 col5\" >0.4690</td>\n",
              "      <td id=\"T_b9a89_row1_col6\" class=\"data row1 col6\" >0.3303</td>\n",
              "      <td id=\"T_b9a89_row1_col7\" class=\"data row1 col7\" >0.3680</td>\n",
              "    </tr>\n",
              "    <tr>\n",
              "      <th id=\"T_b9a89_level0_row2\" class=\"row_heading level0 row2\" >lightgbm</th>\n",
              "      <td id=\"T_b9a89_row2_col0\" class=\"data row2 col0\" >Light Gradient Boosting Machine</td>\n",
              "      <td id=\"T_b9a89_row2_col1\" class=\"data row2 col1\" >2992.1828</td>\n",
              "      <td id=\"T_b9a89_row2_col2\" class=\"data row2 col2\" >25521038.3331</td>\n",
              "      <td id=\"T_b9a89_row2_col3\" class=\"data row2 col3\" >5042.0978</td>\n",
              "      <td id=\"T_b9a89_row2_col4\" class=\"data row2 col4\" >0.8149</td>\n",
              "      <td id=\"T_b9a89_row2_col5\" class=\"data row2 col5\" >0.5378</td>\n",
              "      <td id=\"T_b9a89_row2_col6\" class=\"data row2 col6\" >0.3751</td>\n",
              "      <td id=\"T_b9a89_row2_col7\" class=\"data row2 col7\" >0.2920</td>\n",
              "    </tr>\n",
              "    <tr>\n",
              "      <th id=\"T_b9a89_level0_row3\" class=\"row_heading level0 row3\" >et</th>\n",
              "      <td id=\"T_b9a89_row3_col0\" class=\"data row3 col0\" >Extra Trees Regressor</td>\n",
              "      <td id=\"T_b9a89_row3_col1\" class=\"data row3 col1\" >2833.3624</td>\n",
              "      <td id=\"T_b9a89_row3_col2\" class=\"data row3 col2\" >28427844.2412</td>\n",
              "      <td id=\"T_b9a89_row3_col3\" class=\"data row3 col3\" >5305.6516</td>\n",
              "      <td id=\"T_b9a89_row3_col4\" class=\"data row3 col4\" >0.7991</td>\n",
              "      <td id=\"T_b9a89_row3_col5\" class=\"data row3 col5\" >0.4877</td>\n",
              "      <td id=\"T_b9a89_row3_col6\" class=\"data row3 col6\" >0.3363</td>\n",
              "      <td id=\"T_b9a89_row3_col7\" class=\"data row3 col7\" >0.2770</td>\n",
              "    </tr>\n",
              "    <tr>\n",
              "      <th id=\"T_b9a89_level0_row4\" class=\"row_heading level0 row4\" >ada</th>\n",
              "      <td id=\"T_b9a89_row4_col0\" class=\"data row4 col0\" >AdaBoost Regressor</td>\n",
              "      <td id=\"T_b9a89_row4_col1\" class=\"data row4 col1\" >4316.0568</td>\n",
              "      <td id=\"T_b9a89_row4_col2\" class=\"data row4 col2\" >29220505.6498</td>\n",
              "      <td id=\"T_b9a89_row4_col3\" class=\"data row4 col3\" >5398.4561</td>\n",
              "      <td id=\"T_b9a89_row4_col4\" class=\"data row4 col4\" >0.7903</td>\n",
              "      <td id=\"T_b9a89_row4_col5\" class=\"data row4 col5\" >0.6368</td>\n",
              "      <td id=\"T_b9a89_row4_col6\" class=\"data row4 col6\" >0.7394</td>\n",
              "      <td id=\"T_b9a89_row4_col7\" class=\"data row4 col7\" >0.2220</td>\n",
              "    </tr>\n",
              "    <tr>\n",
              "      <th id=\"T_b9a89_level0_row5\" class=\"row_heading level0 row5\" >xgboost</th>\n",
              "      <td id=\"T_b9a89_row5_col0\" class=\"data row5 col0\" >Extreme Gradient Boosting</td>\n",
              "      <td id=\"T_b9a89_row5_col1\" class=\"data row5 col1\" >3443.6091</td>\n",
              "      <td id=\"T_b9a89_row5_col2\" class=\"data row5 col2\" >32824626.4000</td>\n",
              "      <td id=\"T_b9a89_row5_col3\" class=\"data row5 col3\" >5711.2140</td>\n",
              "      <td id=\"T_b9a89_row5_col4\" class=\"data row5 col4\" >0.7626</td>\n",
              "      <td id=\"T_b9a89_row5_col5\" class=\"data row5 col5\" >0.6224</td>\n",
              "      <td id=\"T_b9a89_row5_col6\" class=\"data row5 col6\" >0.4469</td>\n",
              "      <td id=\"T_b9a89_row5_col7\" class=\"data row5 col7\" >0.3680</td>\n",
              "    </tr>\n",
              "    <tr>\n",
              "      <th id=\"T_b9a89_level0_row6\" class=\"row_heading level0 row6\" >br</th>\n",
              "      <td id=\"T_b9a89_row6_col0\" class=\"data row6 col0\" >Bayesian Ridge</td>\n",
              "      <td id=\"T_b9a89_row6_col1\" class=\"data row6 col1\" >4311.2349</td>\n",
              "      <td id=\"T_b9a89_row6_col2\" class=\"data row6 col2\" >38391950.0874</td>\n",
              "      <td id=\"T_b9a89_row6_col3\" class=\"data row6 col3\" >6176.8896</td>\n",
              "      <td id=\"T_b9a89_row6_col4\" class=\"data row6 col4\" >0.7306</td>\n",
              "      <td id=\"T_b9a89_row6_col5\" class=\"data row6 col5\" >0.5910</td>\n",
              "      <td id=\"T_b9a89_row6_col6\" class=\"data row6 col6\" >0.4447</td>\n",
              "      <td id=\"T_b9a89_row6_col7\" class=\"data row6 col7\" >0.1630</td>\n",
              "    </tr>\n",
              "    <tr>\n",
              "      <th id=\"T_b9a89_level0_row7\" class=\"row_heading level0 row7\" >llar</th>\n",
              "      <td id=\"T_b9a89_row7_col0\" class=\"data row7 col0\" >Lasso Least Angle Regression</td>\n",
              "      <td id=\"T_b9a89_row7_col1\" class=\"data row7 col1\" >4303.7694</td>\n",
              "      <td id=\"T_b9a89_row7_col2\" class=\"data row7 col2\" >38386824.2786</td>\n",
              "      <td id=\"T_b9a89_row7_col3\" class=\"data row7 col3\" >6176.4846</td>\n",
              "      <td id=\"T_b9a89_row7_col4\" class=\"data row7 col4\" >0.7306</td>\n",
              "      <td id=\"T_b9a89_row7_col5\" class=\"data row7 col5\" >0.5952</td>\n",
              "      <td id=\"T_b9a89_row7_col6\" class=\"data row7 col6\" >0.4434</td>\n",
              "      <td id=\"T_b9a89_row7_col7\" class=\"data row7 col7\" >0.1750</td>\n",
              "    </tr>\n",
              "    <tr>\n",
              "      <th id=\"T_b9a89_level0_row8\" class=\"row_heading level0 row8\" >lr</th>\n",
              "      <td id=\"T_b9a89_row8_col0\" class=\"data row8 col0\" >Linear Regression</td>\n",
              "      <td id=\"T_b9a89_row8_col1\" class=\"data row8 col1\" >4303.5559</td>\n",
              "      <td id=\"T_b9a89_row8_col2\" class=\"data row8 col2\" >38388058.4578</td>\n",
              "      <td id=\"T_b9a89_row8_col3\" class=\"data row8 col3\" >6176.5920</td>\n",
              "      <td id=\"T_b9a89_row8_col4\" class=\"data row8 col4\" >0.7306</td>\n",
              "      <td id=\"T_b9a89_row8_col5\" class=\"data row8 col5\" >0.5949</td>\n",
              "      <td id=\"T_b9a89_row8_col6\" class=\"data row8 col6\" >0.4433</td>\n",
              "      <td id=\"T_b9a89_row8_col7\" class=\"data row8 col7\" >0.3980</td>\n",
              "    </tr>\n",
              "    <tr>\n",
              "      <th id=\"T_b9a89_level0_row9\" class=\"row_heading level0 row9\" >lar</th>\n",
              "      <td id=\"T_b9a89_row9_col0\" class=\"data row9 col0\" >Least Angle Regression</td>\n",
              "      <td id=\"T_b9a89_row9_col1\" class=\"data row9 col1\" >4303.5559</td>\n",
              "      <td id=\"T_b9a89_row9_col2\" class=\"data row9 col2\" >38388058.4578</td>\n",
              "      <td id=\"T_b9a89_row9_col3\" class=\"data row9 col3\" >6176.5920</td>\n",
              "      <td id=\"T_b9a89_row9_col4\" class=\"data row9 col4\" >0.7306</td>\n",
              "      <td id=\"T_b9a89_row9_col5\" class=\"data row9 col5\" >0.5949</td>\n",
              "      <td id=\"T_b9a89_row9_col6\" class=\"data row9 col6\" >0.4433</td>\n",
              "      <td id=\"T_b9a89_row9_col7\" class=\"data row9 col7\" >0.2470</td>\n",
              "    </tr>\n",
              "    <tr>\n",
              "      <th id=\"T_b9a89_level0_row10\" class=\"row_heading level0 row10\" >ridge</th>\n",
              "      <td id=\"T_b9a89_row10_col0\" class=\"data row10 col0\" >Ridge Regression</td>\n",
              "      <td id=\"T_b9a89_row10_col1\" class=\"data row10 col1\" >4317.6984</td>\n",
              "      <td id=\"T_b9a89_row10_col2\" class=\"data row10 col2\" >38396435.9578</td>\n",
              "      <td id=\"T_b9a89_row10_col3\" class=\"data row10 col3\" >6177.2329</td>\n",
              "      <td id=\"T_b9a89_row10_col4\" class=\"data row10 col4\" >0.7306</td>\n",
              "      <td id=\"T_b9a89_row10_col5\" class=\"data row10 col5\" >0.5891</td>\n",
              "      <td id=\"T_b9a89_row10_col6\" class=\"data row10 col6\" >0.4459</td>\n",
              "      <td id=\"T_b9a89_row10_col7\" class=\"data row10 col7\" >0.1670</td>\n",
              "    </tr>\n",
              "    <tr>\n",
              "      <th id=\"T_b9a89_level0_row11\" class=\"row_heading level0 row11\" >lasso</th>\n",
              "      <td id=\"T_b9a89_row11_col0\" class=\"data row11 col0\" >Lasso Regression</td>\n",
              "      <td id=\"T_b9a89_row11_col1\" class=\"data row11 col1\" >4303.7697</td>\n",
              "      <td id=\"T_b9a89_row11_col2\" class=\"data row11 col2\" >38386797.6709</td>\n",
              "      <td id=\"T_b9a89_row11_col3\" class=\"data row11 col3\" >6176.4824</td>\n",
              "      <td id=\"T_b9a89_row11_col4\" class=\"data row11 col4\" >0.7306</td>\n",
              "      <td id=\"T_b9a89_row11_col5\" class=\"data row11 col5\" >0.5952</td>\n",
              "      <td id=\"T_b9a89_row11_col6\" class=\"data row11 col6\" >0.4434</td>\n",
              "      <td id=\"T_b9a89_row11_col7\" class=\"data row11 col7\" >0.1560</td>\n",
              "    </tr>\n",
              "    <tr>\n",
              "      <th id=\"T_b9a89_level0_row12\" class=\"row_heading level0 row12\" >huber</th>\n",
              "      <td id=\"T_b9a89_row12_col0\" class=\"data row12 col0\" >Huber Regressor</td>\n",
              "      <td id=\"T_b9a89_row12_col1\" class=\"data row12 col1\" >3463.2216</td>\n",
              "      <td id=\"T_b9a89_row12_col2\" class=\"data row12 col2\" >48801106.4612</td>\n",
              "      <td id=\"T_b9a89_row12_col3\" class=\"data row12 col3\" >6963.9984</td>\n",
              "      <td id=\"T_b9a89_row12_col4\" class=\"data row12 col4\" >0.6544</td>\n",
              "      <td id=\"T_b9a89_row12_col5\" class=\"data row12 col5\" >0.4927</td>\n",
              "      <td id=\"T_b9a89_row12_col6\" class=\"data row12 col6\" >0.2212</td>\n",
              "      <td id=\"T_b9a89_row12_col7\" class=\"data row12 col7\" >0.2110</td>\n",
              "    </tr>\n",
              "    <tr>\n",
              "      <th id=\"T_b9a89_level0_row13\" class=\"row_heading level0 row13\" >dt</th>\n",
              "      <td id=\"T_b9a89_row13_col0\" class=\"data row13 col0\" >Decision Tree Regressor</td>\n",
              "      <td id=\"T_b9a89_row13_col1\" class=\"data row13 col1\" >3383.4916</td>\n",
              "      <td id=\"T_b9a89_row13_col2\" class=\"data row13 col2\" >47823199.0729</td>\n",
              "      <td id=\"T_b9a89_row13_col3\" class=\"data row13 col3\" >6895.7016</td>\n",
              "      <td id=\"T_b9a89_row13_col4\" class=\"data row13 col4\" >0.6497</td>\n",
              "      <td id=\"T_b9a89_row13_col5\" class=\"data row13 col5\" >0.5602</td>\n",
              "      <td id=\"T_b9a89_row13_col6\" class=\"data row13 col6\" >0.4013</td>\n",
              "      <td id=\"T_b9a89_row13_col7\" class=\"data row13 col7\" >0.3690</td>\n",
              "    </tr>\n",
              "    <tr>\n",
              "      <th id=\"T_b9a89_level0_row14\" class=\"row_heading level0 row14\" >par</th>\n",
              "      <td id=\"T_b9a89_row14_col0\" class=\"data row14 col0\" >Passive Aggressive Regressor</td>\n",
              "      <td id=\"T_b9a89_row14_col1\" class=\"data row14 col1\" >4537.0122</td>\n",
              "      <td id=\"T_b9a89_row14_col2\" class=\"data row14 col2\" >67346309.9218</td>\n",
              "      <td id=\"T_b9a89_row14_col3\" class=\"data row14 col3\" >8142.7826</td>\n",
              "      <td id=\"T_b9a89_row14_col4\" class=\"data row14 col4\" >0.5422</td>\n",
              "      <td id=\"T_b9a89_row14_col5\" class=\"data row14 col5\" >0.5276</td>\n",
              "      <td id=\"T_b9a89_row14_col6\" class=\"data row14 col6\" >0.3207</td>\n",
              "      <td id=\"T_b9a89_row14_col7\" class=\"data row14 col7\" >0.1800</td>\n",
              "    </tr>\n",
              "    <tr>\n",
              "      <th id=\"T_b9a89_level0_row15\" class=\"row_heading level0 row15\" >en</th>\n",
              "      <td id=\"T_b9a89_row15_col0\" class=\"data row15 col0\" >Elastic Net</td>\n",
              "      <td id=\"T_b9a89_row15_col1\" class=\"data row15 col1\" >7372.5238</td>\n",
              "      <td id=\"T_b9a89_row15_col2\" class=\"data row15 col2\" >90450782.5713</td>\n",
              "      <td id=\"T_b9a89_row15_col3\" class=\"data row15 col3\" >9468.3193</td>\n",
              "      <td id=\"T_b9a89_row15_col4\" class=\"data row15 col4\" >0.3792</td>\n",
              "      <td id=\"T_b9a89_row15_col5\" class=\"data row15 col5\" >0.7342</td>\n",
              "      <td id=\"T_b9a89_row15_col6\" class=\"data row15 col6\" >0.9184</td>\n",
              "      <td id=\"T_b9a89_row15_col7\" class=\"data row15 col7\" >0.1670</td>\n",
              "    </tr>\n",
              "    <tr>\n",
              "      <th id=\"T_b9a89_level0_row16\" class=\"row_heading level0 row16\" >omp</th>\n",
              "      <td id=\"T_b9a89_row16_col0\" class=\"data row16 col0\" >Orthogonal Matching Pursuit</td>\n",
              "      <td id=\"T_b9a89_row16_col1\" class=\"data row16 col1\" >9089.9268</td>\n",
              "      <td id=\"T_b9a89_row16_col2\" class=\"data row16 col2\" >133439413.5272</td>\n",
              "      <td id=\"T_b9a89_row16_col3\" class=\"data row16 col3\" >11488.4238</td>\n",
              "      <td id=\"T_b9a89_row16_col4\" class=\"data row16 col4\" >0.0884</td>\n",
              "      <td id=\"T_b9a89_row16_col5\" class=\"data row16 col5\" >0.8790</td>\n",
              "      <td id=\"T_b9a89_row16_col6\" class=\"data row16 col6\" >1.1514</td>\n",
              "      <td id=\"T_b9a89_row16_col7\" class=\"data row16 col7\" >0.4610</td>\n",
              "    </tr>\n",
              "    <tr>\n",
              "      <th id=\"T_b9a89_level0_row17\" class=\"row_heading level0 row17\" >knn</th>\n",
              "      <td id=\"T_b9a89_row17_col0\" class=\"data row17 col0\" >K Neighbors Regressor</td>\n",
              "      <td id=\"T_b9a89_row17_col1\" class=\"data row17 col1\" >8007.1197</td>\n",
              "      <td id=\"T_b9a89_row17_col2\" class=\"data row17 col2\" >131380022.4000</td>\n",
              "      <td id=\"T_b9a89_row17_col3\" class=\"data row17 col3\" >11424.9843</td>\n",
              "      <td id=\"T_b9a89_row17_col4\" class=\"data row17 col4\" >0.0860</td>\n",
              "      <td id=\"T_b9a89_row17_col5\" class=\"data row17 col5\" >0.8535</td>\n",
              "      <td id=\"T_b9a89_row17_col6\" class=\"data row17 col6\" >0.9231</td>\n",
              "      <td id=\"T_b9a89_row17_col7\" class=\"data row17 col7\" >0.1750</td>\n",
              "    </tr>\n",
              "    <tr>\n",
              "      <th id=\"T_b9a89_level0_row18\" class=\"row_heading level0 row18\" >dummy</th>\n",
              "      <td id=\"T_b9a89_row18_col0\" class=\"data row18 col0\" >Dummy Regressor</td>\n",
              "      <td id=\"T_b9a89_row18_col1\" class=\"data row18 col1\" >9192.5418</td>\n",
              "      <td id=\"T_b9a89_row18_col2\" class=\"data row18 col2\" >148516792.8000</td>\n",
              "      <td id=\"T_b9a89_row18_col3\" class=\"data row18 col3\" >12132.4733</td>\n",
              "      <td id=\"T_b9a89_row18_col4\" class=\"data row18 col4\" >-0.0175</td>\n",
              "      <td id=\"T_b9a89_row18_col5\" class=\"data row18 col5\" >1.0154</td>\n",
              "      <td id=\"T_b9a89_row18_col6\" class=\"data row18 col6\" >1.5637</td>\n",
              "      <td id=\"T_b9a89_row18_col7\" class=\"data row18 col7\" >0.2560</td>\n",
              "    </tr>\n",
              "  </tbody>\n",
              "</table>\n"
            ]
          },
          "metadata": {}
        },
        {
          "output_type": "display_data",
          "data": {
            "text/plain": [
              "Processing:   0%|          | 0/81 [00:00<?, ?it/s]"
            ],
            "application/vnd.jupyter.widget-view+json": {
              "version_major": 2,
              "version_minor": 0,
              "model_id": "e5228027aa744726a2cab8e370d9b447"
            }
          },
          "metadata": {
            "application/vnd.jupyter.widget-view+json": {
              "colab": {
                "custom_widget_manager": {
                  "url": "https://ssl.gstatic.com/colaboratory-static/widgets/colab-cdn-widget-manager/b3e629b1971e1542/manager.min.js"
                }
              }
            }
          }
        },
        {
          "output_type": "display_data",
          "data": {
            "text/plain": [
              "<IPython.core.display.HTML object>"
            ],
            "text/html": []
          },
          "metadata": {}
        }
      ]
    },
    {
      "cell_type": "code",
      "source": [
        "print(best)"
      ],
      "metadata": {
        "colab": {
          "base_uri": "https://localhost:8080/"
        },
        "id": "LMy55WrkAYyd",
        "outputId": "e4e3473c-c8ea-408e-d00d-b8a100d3eead"
      },
      "execution_count": 18,
      "outputs": [
        {
          "output_type": "stream",
          "name": "stdout",
          "text": [
            "GradientBoostingRegressor(alpha=0.9, ccp_alpha=0.0, criterion='friedman_mse',\n",
            "                          init=None, learning_rate=0.1, loss='squared_error',\n",
            "                          max_depth=3, max_features=None, max_leaf_nodes=None,\n",
            "                          min_impurity_decrease=0.0, min_samples_leaf=1,\n",
            "                          min_samples_split=2, min_weight_fraction_leaf=0.0,\n",
            "                          n_estimators=100, n_iter_no_change=None,\n",
            "                          random_state=123, subsample=1.0, tol=0.0001,\n",
            "                          validation_fraction=0.1, verbose=0, warm_start=False)\n"
          ]
        }
      ]
    },
    {
      "cell_type": "markdown",
      "source": [
        "#Analyze Model\n",
        "This function analyzes the performance of a trained model on the test set. It may require re-training the model in certain cases."
      ],
      "metadata": {
        "id": "NMOq4hFFAZoH"
      }
    },
    {
      "cell_type": "code",
      "source": [
        "# functional API\n",
        "evaluate_model(best)\n",
        "\n",
        "# OOP API\n",
        "s.evaluate_model(best)"
      ],
      "metadata": {
        "id": "RKaNkcgIAiQW"
      },
      "execution_count": null,
      "outputs": []
    },
    {
      "cell_type": "code",
      "source": [
        "# functional API\n",
        "plot_model(best, plot = 'residuals')\n",
        "\n",
        "# OOP API\n",
        "s.plot_model(best, plot = 'residuals')"
      ],
      "metadata": {
        "id": "IjrKzDTTAkr2"
      },
      "execution_count": null,
      "outputs": []
    },
    {
      "cell_type": "code",
      "source": [
        "# functional API\n",
        "plot_model(best, plot = 'feature')\n",
        "\n",
        "# OOP API\n",
        "s.plot_model(best, plot = 'feature')"
      ],
      "metadata": {
        "id": "UInoIj70AnUe"
      },
      "execution_count": null,
      "outputs": []
    },
    {
      "cell_type": "markdown",
      "source": [
        "#Predictions"
      ],
      "metadata": {
        "id": "_PqLStPLAs6_"
      }
    },
    {
      "cell_type": "code",
      "source": [
        "# functional API\n",
        "predict_model(best)\n",
        "\n",
        "# OOP API\n",
        "s.predict_model(best)"
      ],
      "metadata": {
        "id": "4S7VQu2FAqZH"
      },
      "execution_count": null,
      "outputs": []
    },
    {
      "cell_type": "markdown",
      "source": [
        "The evaluation metrics are calculated on the test set. The second output is the pd.DataFrame with predictions on the test set (see the last two columns). To generate labels on the unseen (new) dataset, simply pass the dataset in the predict_model function."
      ],
      "metadata": {
        "id": "2Uzx1AqyA8zQ"
      }
    },
    {
      "cell_type": "code",
      "source": [
        "# functional API\n",
        "predictions = predict_model(best, data=data)\n",
        "predictions.head()\n",
        "\n",
        "# OOP API\n",
        "predictions = s.predict_model(best, data=data)\n",
        "predictions.head()"
      ],
      "metadata": {
        "id": "2xu-eN6_A9XW"
      },
      "execution_count": null,
      "outputs": []
    },
    {
      "cell_type": "markdown",
      "source": [
        "#Save the model\n"
      ],
      "metadata": {
        "id": "OaHDHV6FBE9O"
      }
    },
    {
      "cell_type": "code",
      "source": [
        "# functional API\n",
        "save_model(best, 'my_best_pipeline')\n",
        "\n",
        "# OOP API\n",
        "s.save_model(best, 'my_best_pipeline')"
      ],
      "metadata": {
        "id": "nFfz6X_GBCw-"
      },
      "execution_count": null,
      "outputs": []
    },
    {
      "cell_type": "markdown",
      "source": [
        "To load the model back in the environment:\n"
      ],
      "metadata": {
        "id": "sHIeB64XBN_3"
      }
    },
    {
      "cell_type": "code",
      "source": [
        "# functional API\n",
        "loaded_model = load_model('my_best_pipeline')\n",
        "print(loaded_model)\n",
        "\n",
        "# OOP API\n",
        "loaded_model = s.load_model('my_best_pipeline')\n",
        "print(loaded_model)"
      ],
      "metadata": {
        "id": "RMKpm7QjBO8_"
      },
      "execution_count": null,
      "outputs": []
    }
  ]
}